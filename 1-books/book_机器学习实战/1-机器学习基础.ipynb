{
 "cells": [
  {
   "cell_type": "markdown",
   "metadata": {
    "tags": []
   },
   "source": [
    "Numpy测试"
   ]
  },
  {
   "cell_type": "code",
   "execution_count": 1,
   "metadata": {},
   "outputs": [],
   "source": [
    "from numpy import *"
   ]
  },
  {
   "cell_type": "code",
   "execution_count": 2,
   "metadata": {},
   "outputs": [
    {
     "data": {
      "text/plain": [
       "array([[0.14349926, 0.15698515, 0.1202379 , 0.06110009],\n",
       "       [0.03158488, 0.7012314 , 0.15432514, 0.82541699],\n",
       "       [0.48850187, 0.70109445, 0.84224174, 0.56228786],\n",
       "       [0.29551611, 0.09024221, 0.76653691, 0.79259665]])"
      ]
     },
     "execution_count": 2,
     "metadata": {},
     "output_type": "execute_result"
    }
   ],
   "source": [
    "random.rand(4, 4)"
   ]
  },
  {
   "cell_type": "code",
   "execution_count": 3,
   "metadata": {},
   "outputs": [],
   "source": [
    "randMat = mat(random.rand(4,4))"
   ]
  },
  {
   "cell_type": "code",
   "execution_count": 4,
   "metadata": {},
   "outputs": [
    {
     "data": {
      "text/plain": [
       "matrix([[0.3296906 , 0.46431409, 0.02961592, 0.36966455],\n",
       "        [0.9744083 , 0.78226819, 0.77198222, 0.7886608 ],\n",
       "        [0.24165223, 0.94606265, 0.20925295, 0.22479255],\n",
       "        [0.21909759, 0.07964611, 0.7227898 , 0.54977275]])"
      ]
     },
     "execution_count": 4,
     "metadata": {},
     "output_type": "execute_result"
    }
   ],
   "source": [
    "randMat"
   ]
  },
  {
   "cell_type": "code",
   "execution_count": 5,
   "metadata": {},
   "outputs": [
    {
     "data": {
      "text/plain": [
       "matrix([[0.3296906 , 0.9744083 , 0.24165223, 0.21909759],\n",
       "        [0.46431409, 0.78226819, 0.94606265, 0.07964611],\n",
       "        [0.02961592, 0.77198222, 0.20925295, 0.7227898 ],\n",
       "        [0.36966455, 0.7886608 , 0.22479255, 0.54977275]])"
      ]
     },
     "execution_count": 5,
     "metadata": {},
     "output_type": "execute_result"
    }
   ],
   "source": [
    "randMat.T"
   ]
  },
  {
   "cell_type": "code",
   "execution_count": 6,
   "metadata": {},
   "outputs": [
    {
     "data": {
      "text/plain": [
       "matrix([[-0.97848987,  2.0250111 , -1.04084786, -1.82140534],\n",
       "        [-0.08853294, -0.2848847 ,  1.3428322 , -0.08085849],\n",
       "        [-2.6618204 ,  0.5527857 ,  0.7926704 ,  0.67270305],\n",
       "        [ 3.90228999, -1.49249477, -0.82186355,  1.67211393]])"
      ]
     },
     "execution_count": 6,
     "metadata": {},
     "output_type": "execute_result"
    }
   ],
   "source": [
    "randMat.I"
   ]
  },
  {
   "cell_type": "code",
   "execution_count": 7,
   "metadata": {},
   "outputs": [],
   "source": [
    "invRandMat = randMat.I"
   ]
  },
  {
   "cell_type": "code",
   "execution_count": 8,
   "metadata": {},
   "outputs": [
    {
     "data": {
      "text/plain": [
       "matrix([[ 1.00000000e+00,  1.32959163e-16, -2.04821534e-17,\n",
       "          7.02683810e-17],\n",
       "        [ 1.99190606e-16,  1.00000000e+00,  5.70946016e-17,\n",
       "          4.32423756e-16],\n",
       "        [-6.45562754e-18,  7.29536690e-17,  1.00000000e+00,\n",
       "         -1.23984724e-17],\n",
       "        [-1.41773170e-17,  8.28548756e-18, -8.51755709e-17,\n",
       "          1.00000000e+00]])"
      ]
     },
     "execution_count": 8,
     "metadata": {},
     "output_type": "execute_result"
    }
   ],
   "source": [
    "randMat * invRandMat"
   ]
  },
  {
   "cell_type": "code",
   "execution_count": 9,
   "metadata": {},
   "outputs": [],
   "source": [
    "myEye = randMat*invRandMat"
   ]
  },
  {
   "cell_type": "code",
   "execution_count": 10,
   "metadata": {},
   "outputs": [
    {
     "data": {
      "text/plain": [
       "matrix([[ 0.00000000e+00,  1.32959163e-16, -2.04821534e-17,\n",
       "          7.02683810e-17],\n",
       "        [ 1.99190606e-16,  2.22044605e-16,  5.70946016e-17,\n",
       "          4.32423756e-16],\n",
       "        [-6.45562754e-18,  7.29536690e-17,  0.00000000e+00,\n",
       "         -1.23984724e-17],\n",
       "        [-1.41773170e-17,  8.28548756e-18, -8.51755709e-17,\n",
       "          0.00000000e+00]])"
      ]
     },
     "execution_count": 10,
     "metadata": {},
     "output_type": "execute_result"
    }
   ],
   "source": [
    "myEye - eye(4)"
   ]
  },
  {
   "cell_type": "markdown",
   "metadata": {},
   "source": [
    "kNN实战"
   ]
  },
  {
   "cell_type": "code",
   "execution_count": 27,
   "metadata": {},
   "outputs": [],
   "source": [
    "from numpy import *\n",
    "import operator"
   ]
  },
  {
   "cell_type": "code",
   "execution_count": 26,
   "metadata": {},
   "outputs": [],
   "source": [
    "def createDataSet():\n",
    "    group = array([[1.0, 1.1], [1.0, 1.0], [0, 0], [0, 0.1]])\n",
    "    label = ['A', 'A', 'B', 'B']\n",
    "    return group, label"
   ]
  },
  {
   "cell_type": "code",
   "execution_count": 22,
   "metadata": {},
   "outputs": [],
   "source": [
    "group, labels = createDataSet()"
   ]
  },
  {
   "cell_type": "code",
   "execution_count": 23,
   "metadata": {},
   "outputs": [
    {
     "data": {
      "text/plain": [
       "array([[1. , 1.1],\n",
       "       [1. , 1. ],\n",
       "       [0. , 0. ],\n",
       "       [0. , 0.1]])"
      ]
     },
     "execution_count": 23,
     "metadata": {},
     "output_type": "execute_result"
    }
   ],
   "source": [
    "group"
   ]
  },
  {
   "cell_type": "code",
   "execution_count": 24,
   "metadata": {},
   "outputs": [
    {
     "data": {
      "text/plain": [
       "['A', 'A', 'B', 'B']"
      ]
     },
     "execution_count": 24,
     "metadata": {},
     "output_type": "execute_result"
    }
   ],
   "source": [
    "labels"
   ]
  },
  {
   "cell_type": "code",
   "execution_count": 28,
   "metadata": {},
   "outputs": [],
   "source": [
    "def classify0(inX, dataSet, labels, k):\n",
    "    dataSetSize = dataSet.shape[0]\n",
    "    \n",
    "    # 距离计算\n",
    "    diffMat = tile(inX, (dataSetSize, 1)) - dataSet\n",
    "    sqDiffMat = diffMat ** 2\n",
    "    sqDistances = sqDiffMat.sum(axis=1)\n",
    "    distances = sqDistances**0.5\n",
    "    sortedDistIndicies = distances.argsort()\n",
    "    \n",
    "    # 选择距离最小的k个点\n",
    "    classCount = {}\n",
    "    for i in range(k):\n",
    "        voteIlabel = labels[sortedDistIndicies[i]]\n",
    "        classCount[voteIlabel] = classCount.get(voteIlabel, 0) + 1\n",
    "    \n",
    "    # 排序\n",
    "    sortedClassCount = sorted(classCount.items(), key=operator.itemgetter(1), reverse=True)\n",
    "    return sortedClassCount[0][0]"
   ]
  },
  {
   "cell_type": "code",
   "execution_count": 29,
   "metadata": {},
   "outputs": [
    {
     "data": {
      "text/plain": [
       "'B'"
      ]
     },
     "execution_count": 29,
     "metadata": {},
     "output_type": "execute_result"
    }
   ],
   "source": [
    "classify0([0, 0], group, labels, 3)"
   ]
  },
  {
   "cell_type": "code",
   "execution_count": null,
   "metadata": {},
   "outputs": [],
   "source": []
  }
 ],
 "metadata": {
  "kernelspec": {
   "display_name": "Python 3",
   "language": "python",
   "name": "python3"
  },
  "language_info": {
   "codemirror_mode": {
    "name": "ipython",
    "version": 3
   },
   "file_extension": ".py",
   "mimetype": "text/x-python",
   "name": "python",
   "nbconvert_exporter": "python",
   "pygments_lexer": "ipython3",
   "version": "3.7.8"
  }
 },
 "nbformat": 4,
 "nbformat_minor": 4
}
