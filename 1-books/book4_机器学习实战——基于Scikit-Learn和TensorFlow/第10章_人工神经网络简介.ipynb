{
 "cells": [
  {
   "cell_type": "code",
   "execution_count": null,
   "metadata": {},
   "outputs": [],
   "source": [
    "import numpy as np\n",
    "from sklearn.datasets import load_iris\n",
    "from sklearn.linear_model import Perceptron\n",
    "\n",
    "iris = load_iris()\n",
    "X = iris.data[:, (2, 3)]\n",
    "y = (iris.target == 0).astype(np.int)\n",
    "per_clf = Perceptron(random_state=42)\n",
    "per_clf.fit(X, y)\n",
    "\n",
    "y_pred = per_clf.predict([[2, 0.5]])\n",
    "print(y_pred)"
   ]
  },
  {
   "cell_type": "code",
   "execution_count": 1,
   "metadata": {},
   "outputs": [
    {
     "name": "stderr",
     "output_type": "stream",
     "text": [
      "WARNING: Logging before flag parsing goes to stderr.\n",
      "W0904 14:30:42.757139  9440 deprecation.py:323] From <ipython-input-1-761bd243aaf1>:3: read_data_sets (from tensorflow.contrib.learn.python.learn.datasets.mnist) is deprecated and will be removed in a future version.\n",
      "Instructions for updating:\n",
      "Please use alternatives such as official/mnist/dataset.py from tensorflow/models.\n",
      "W0904 14:30:42.763154  9440 deprecation.py:323] From d:\\python3.5.3\\lib\\site-packages\\tensorflow\\contrib\\learn\\python\\learn\\datasets\\mnist.py:260: maybe_download (from tensorflow.contrib.learn.python.learn.datasets.base) is deprecated and will be removed in a future version.\n",
      "Instructions for updating:\n",
      "Please write your own downloading logic.\n",
      "W0904 14:30:42.763696  9440 deprecation.py:323] From d:\\python3.5.3\\lib\\site-packages\\tensorflow\\contrib\\learn\\python\\learn\\datasets\\mnist.py:262: extract_images (from tensorflow.contrib.learn.python.learn.datasets.mnist) is deprecated and will be removed in a future version.\n",
      "Instructions for updating:\n",
      "Please use tf.data to implement this functionality.\n"
     ]
    },
    {
     "name": "stdout",
     "output_type": "stream",
     "text": [
      "Extracting D:/李添的数据哦！！！/BookStudy/book4/MNIST_data/MNIST_data/train-images-idx3-ubyte.gz\n"
     ]
    },
    {
     "name": "stderr",
     "output_type": "stream",
     "text": [
      "W0904 14:30:42.957180  9440 deprecation.py:323] From d:\\python3.5.3\\lib\\site-packages\\tensorflow\\contrib\\learn\\python\\learn\\datasets\\mnist.py:267: extract_labels (from tensorflow.contrib.learn.python.learn.datasets.mnist) is deprecated and will be removed in a future version.\n",
      "Instructions for updating:\n",
      "Please use tf.data to implement this functionality.\n",
      "W0904 14:30:42.994082  9440 deprecation.py:323] From d:\\python3.5.3\\lib\\site-packages\\tensorflow\\contrib\\learn\\python\\learn\\datasets\\mnist.py:290: DataSet.__init__ (from tensorflow.contrib.learn.python.learn.datasets.mnist) is deprecated and will be removed in a future version.\n",
      "Instructions for updating:\n",
      "Please use alternatives such as official/mnist/dataset.py from tensorflow/models.\n"
     ]
    },
    {
     "name": "stdout",
     "output_type": "stream",
     "text": [
      "Extracting D:/李添的数据哦！！！/BookStudy/book4/MNIST_data/MNIST_data/train-labels-idx1-ubyte.gz\n",
      "Extracting D:/李添的数据哦！！！/BookStudy/book4/MNIST_data/MNIST_data/t10k-images-idx3-ubyte.gz\n",
      "Extracting D:/李添的数据哦！！！/BookStudy/book4/MNIST_data/MNIST_data/t10k-labels-idx1-ubyte.gz\n"
     ]
    }
   ],
   "source": [
    "from tensorflow.examples.tutorials.mnist import input_data\n",
    "\n",
    "mnist = input_data.read_data_sets(\"D:/李添的数据哦！！！/BookStudy/book4/MNIST_data/MNIST_data/\")"
   ]
  },
  {
   "cell_type": "code",
   "execution_count": 2,
   "metadata": {},
   "outputs": [],
   "source": [
    "X_train = mnist.train.images\n",
    "X_test = mnist.test.images\n",
    "y_train = mnist.train.labels.astype(\"int\")\n",
    "y_test = mnist.test.labels.astype(\"int\")"
   ]
  },
  {
   "cell_type": "code",
   "execution_count": 3,
   "metadata": {},
   "outputs": [
    {
     "name": "stderr",
     "output_type": "stream",
     "text": [
      "W0904 14:30:48.662095  9440 deprecation.py:323] From <ipython-input-3-4a831b14704e>:3: RunConfig.__init__ (from tensorflow.contrib.learn.python.learn.estimators.run_config) is deprecated and will be removed in a future version.\n",
      "Instructions for updating:\n",
      "When switching to tf.estimator.Estimator, use tf.estimator.RunConfig instead.\n",
      "W0904 14:30:48.679064  9440 deprecation.py:323] From <ipython-input-3-4a831b14704e>:5: infer_real_valued_columns_from_input (from tensorflow.contrib.learn.python.learn.estimators.estimator) is deprecated and will be removed in a future version.\n",
      "Instructions for updating:\n",
      "Please specify feature columns explicitly.\n",
      "W0904 14:30:48.679064  9440 deprecation.py:323] From d:\\python3.5.3\\lib\\site-packages\\tensorflow\\contrib\\learn\\python\\learn\\estimators\\estimator.py:143: setup_train_data_feeder (from tensorflow.contrib.learn.python.learn.learn_io.data_feeder) is deprecated and will be removed in a future version.\n",
      "Instructions for updating:\n",
      "Please use tensorflow/transform or tf.data.\n",
      "W0904 14:30:48.680074  9440 deprecation.py:323] From d:\\python3.5.3\\lib\\site-packages\\tensorflow\\contrib\\learn\\python\\learn\\learn_io\\data_feeder.py:100: extract_pandas_data (from tensorflow.contrib.learn.python.learn.learn_io.pandas_io) is deprecated and will be removed in a future version.\n",
      "Instructions for updating:\n",
      "Please access pandas data directly.\n",
      "W0904 14:30:48.680074  9440 deprecation.py:323] From d:\\python3.5.3\\lib\\site-packages\\tensorflow\\contrib\\learn\\python\\learn\\learn_io\\data_feeder.py:159: DataFeeder.__init__ (from tensorflow.contrib.learn.python.learn.learn_io.data_feeder) is deprecated and will be removed in a future version.\n",
      "Instructions for updating:\n",
      "Please use tensorflow/transform or tf.data.\n",
      "W0904 14:30:48.681061  9440 deprecation.py:323] From d:\\python3.5.3\\lib\\site-packages\\tensorflow\\contrib\\learn\\python\\learn\\learn_io\\data_feeder.py:340: check_array (from tensorflow.contrib.learn.python.learn.learn_io.data_feeder) is deprecated and will be removed in a future version.\n",
      "Instructions for updating:\n",
      "Please convert numpy dtypes explicitly.\n",
      "W0904 14:30:48.730695  9440 deprecation.py:323] From d:\\python3.5.3\\lib\\site-packages\\tensorflow\\contrib\\learn\\python\\learn\\estimators\\estimator.py:183: infer_real_valued_columns_from_input_fn (from tensorflow.contrib.learn.python.learn.estimators.estimator) is deprecated and will be removed in a future version.\n",
      "Instructions for updating:\n",
      "Please specify feature columns explicitly.\n",
      "W0904 14:30:48.937919  9440 deprecation.py:323] From d:\\python3.5.3\\lib\\site-packages\\tensorflow\\contrib\\learn\\python\\learn\\estimators\\dnn.py:378: multi_class_head (from tensorflow.contrib.learn.python.learn.estimators.head) is deprecated and will be removed in a future version.\n",
      "Instructions for updating:\n",
      "Please switch to tf.contrib.estimator.*_head.\n",
      "W0904 14:30:48.939953  9440 deprecation.py:323] From d:\\python3.5.3\\lib\\site-packages\\tensorflow\\contrib\\learn\\python\\learn\\estimators\\estimator.py:1179: BaseEstimator.__init__ (from tensorflow.contrib.learn.python.learn.estimators.estimator) is deprecated and will be removed in a future version.\n",
      "Instructions for updating:\n",
      "Please replace uses of any Estimator from tf.contrib.learn with an Estimator from tf.estimator.*\n",
      "W0904 14:30:48.943912  9440 estimator.py:453] Using temporary folder as model directory: C:\\Users\\HANDSO~1\\AppData\\Local\\Temp\\tmps8vuwqy6\n",
      "W0904 14:30:48.946901  9440 deprecation.py:323] From <ipython-input-3-4a831b14704e>:8: SKCompat.__init__ (from tensorflow.contrib.learn.python.learn.estimators.estimator) is deprecated and will be removed in a future version.\n",
      "Instructions for updating:\n",
      "Please switch to the Estimator interface.\n",
      "W0904 14:30:48.947899  9440 deprecation.py:323] From d:\\python3.5.3\\lib\\site-packages\\tensorflow\\contrib\\learn\\python\\learn\\learn_io\\data_feeder.py:102: extract_pandas_labels (from tensorflow.contrib.learn.python.learn.learn_io.pandas_io) is deprecated and will be removed in a future version.\n",
      "Instructions for updating:\n",
      "Please access pandas data directly.\n",
      "W0904 14:30:49.023461  9440 deprecation.py:323] From d:\\python3.5.3\\lib\\site-packages\\tensorflow\\python\\training\\training_util.py:236: Variable.initialized_value (from tensorflow.python.ops.variables) is deprecated and will be removed in a future version.\n",
      "Instructions for updating:\n",
      "Use Variable.read_value. Variables in 2.X are initialized automatically both in eager and graph (inside tf.defun) contexts.\n",
      "W0904 14:30:49.489322  9440 deprecation.py:506] From d:\\python3.5.3\\lib\\site-packages\\tensorflow\\python\\training\\adagrad.py:76: calling Constant.__init__ (from tensorflow.python.ops.init_ops) with dtype is deprecated and will be removed in a future version.\n",
      "Instructions for updating:\n",
      "Call initializer instance with the dtype argument instead of passing it to the constructor\n",
      "W0904 14:30:49.600236  9440 deprecation.py:323] From d:\\python3.5.3\\lib\\site-packages\\tensorflow\\contrib\\learn\\python\\learn\\estimators\\head.py:678: ModelFnOps.__new__ (from tensorflow.contrib.learn.python.learn.estimators.model_fn) is deprecated and will be removed in a future version.\n",
      "Instructions for updating:\n",
      "When switching to tf.estimator.Estimator, use tf.estimator.EstimatorSpec. You can use the `estimator_spec` method to create an equivalent one.\n",
      "W0904 14:30:49.826364  9440 deprecation.py:323] From d:\\python3.5.3\\lib\\site-packages\\tensorflow\\python\\ops\\array_ops.py:1354: add_dispatch_support.<locals>.wrapper (from tensorflow.python.ops.array_ops) is deprecated and will be removed in a future version.\n",
      "Instructions for updating:\n",
      "Use tf.where in 2.0, which has the same broadcast rule as np.where\n"
     ]
    },
    {
     "data": {
      "text/plain": [
       "SKCompat()"
      ]
     },
     "execution_count": 3,
     "metadata": {},
     "output_type": "execute_result"
    }
   ],
   "source": [
    "import tensorflow as tf\n",
    "\n",
    "config = tf.contrib.learn.RunConfig(tf_random_seed=42) # not shown in the config\n",
    "\n",
    "feature_cols = tf.contrib.learn.infer_real_valued_columns_from_input(X_train)\n",
    "dnn_clf = tf.contrib.learn.DNNClassifier(hidden_units=[300,100], n_classes=10,\n",
    "                                         feature_columns=feature_cols, config=config)\n",
    "dnn_clf = tf.contrib.learn.SKCompat(dnn_clf) # if TensorFlow >= 1.1\n",
    "dnn_clf.fit(X_train, y_train, batch_size=50, steps=40000)"
   ]
  },
  {
   "cell_type": "code",
   "execution_count": 4,
   "metadata": {},
   "outputs": [
    {
     "name": "stderr",
     "output_type": "stream",
     "text": [
      "W0904 14:32:36.191894  9440 deprecation.py:323] From d:\\python3.5.3\\lib\\site-packages\\tensorflow\\python\\training\\saver.py:1276: checkpoint_exists (from tensorflow.python.training.checkpoint_management) is deprecated and will be removed in a future version.\n",
      "Instructions for updating:\n",
      "Use standard file APIs to check for files with this prefix.\n"
     ]
    },
    {
     "data": {
      "text/plain": [
       "0.9816"
      ]
     },
     "execution_count": 4,
     "metadata": {},
     "output_type": "execute_result"
    }
   ],
   "source": [
    "from sklearn.metrics import accuracy_score\n",
    "\n",
    "y_pred = dnn_clf.predict(X_test)\n",
    "accuracy_score(y_test, y_pred['classes'])"
   ]
  },
  {
   "cell_type": "code",
   "execution_count": 7,
   "metadata": {},
   "outputs": [
    {
     "data": {
      "text/plain": [
       "array([1.17556659e-10, 7.24984254e-13, 4.50217197e-10, 1.10052520e-06,\n",
       "       3.86898350e-15, 1.36183355e-13, 7.31454567e-19, 9.99998808e-01,\n",
       "       1.11068196e-10, 1.72052296e-07], dtype=float32)"
      ]
     },
     "execution_count": 7,
     "metadata": {},
     "output_type": "execute_result"
    }
   ],
   "source": [
    "y_pred['probabilities'][0]"
   ]
  },
  {
   "cell_type": "code",
   "execution_count": 8,
   "metadata": {},
   "outputs": [
    {
     "data": {
      "text/plain": [
       "7"
      ]
     },
     "execution_count": 8,
     "metadata": {},
     "output_type": "execute_result"
    }
   ],
   "source": [
    "y_pred['classes'][0]"
   ]
  },
  {
   "cell_type": "code",
   "execution_count": 9,
   "metadata": {},
   "outputs": [
    {
     "data": {
      "text/plain": [
       "0.07208803419083464"
      ]
     },
     "execution_count": 9,
     "metadata": {},
     "output_type": "execute_result"
    }
   ],
   "source": [
    "from sklearn.metrics import log_loss\n",
    "\n",
    "y_pred_proba = y_pred['probabilities']\n",
    "log_loss(y_test, y_pred_proba)"
   ]
  },
  {
   "cell_type": "markdown",
   "metadata": {},
   "source": [
    "- 库还包含了一些方便的函数来评估模型："
   ]
  },
  {
   "cell_type": "code",
   "execution_count": 11,
   "metadata": {},
   "outputs": [
    {
     "data": {
      "text/plain": [
       "{'accuracy': 0.9816, 'global_step': 40000, 'loss': 0.071289584}"
      ]
     },
     "execution_count": 11,
     "metadata": {},
     "output_type": "execute_result"
    }
   ],
   "source": [
    "dnn_clf.score(X_test, y_test)"
   ]
  },
  {
   "cell_type": "code",
   "execution_count": 16,
   "metadata": {},
   "outputs": [],
   "source": [
    "import tensorflow as tf\n",
    "import numpy as np"
   ]
  },
  {
   "cell_type": "code",
   "execution_count": 13,
   "metadata": {},
   "outputs": [],
   "source": [
    "n_inputs = 28*28\n",
    "n_hidden1 = 300\n",
    "n_hidden2 = 100\n",
    "n_outputs = 10"
   ]
  },
  {
   "cell_type": "code",
   "execution_count": 15,
   "metadata": {},
   "outputs": [],
   "source": [
    "X = tf.placeholder(tf.float32, shape=(None, n_inputs), name=\"X\")\n",
    "y = tf.placeholder(tf.int64, shape=(None), name=\"y\")"
   ]
  },
  {
   "cell_type": "code",
   "execution_count": 17,
   "metadata": {},
   "outputs": [],
   "source": [
    "def neuron_layer(X, n_neurons, name, activation=None):\n",
    "    with tf.name_scope(name):\n",
    "        n_inputs = int(X.get_shape()[1])\n",
    "        stddev = 2 / np.sqrt(n_inputs)\n",
    "        init = tf.truncated_normal((n_inputs, n_neurons), stddev=stddev)\n",
    "        W = tf.Variable(init, name=\"weights\")\n",
    "        b = tf.Variable(tf.zeros([n_neurons]), name=\"biases\")\n",
    "        z = tf.matmul(X, W) + b\n",
    "        if activation == \"relu\":\n",
    "            return tf.nn.relu(z)\n",
    "        else:\n",
    "            return z"
   ]
  },
  {
   "cell_type": "code",
   "execution_count": 18,
   "metadata": {
    "jupyter": {
     "source_hidden": true
    }
   },
   "outputs": [],
   "source": [
    "with tf.name_scope(\"dnn\"):\n",
    "    hidden1 = neuron_layer(X, n_hidden1, \"hidden1\", activation=\"relu\")\n",
    "    hidden2 = neuron_layer(hidden1, n_hidden2, \"hidden2\", activation=\"relu\")\n",
    "    logits = neuron_layer(hidden2, n_outputs, \"outputs\")"
   ]
  },
  {
   "cell_type": "markdown",
   "metadata": {},
   "source": [
    "- 利用fully_connected()函数来替换自己写的neuron_layer()函数"
   ]
  },
  {
   "cell_type": "code",
   "execution_count": 21,
   "metadata": {},
   "outputs": [],
   "source": [
    "from tensorflow.contrib.layers import fully_connected"
   ]
  },
  {
   "cell_type": "code",
   "execution_count": 33,
   "metadata": {},
   "outputs": [],
   "source": [
    "with tf.name_scope(\"dnn\"):\n",
    "    hidden1 = fully_connected(X, n_hidden1, scope=\"hidden_1\")\n",
    "    hidden2 = fully_connected(hidden1, n_hidden2, scope=\"hidden_2\")\n",
    "    logits2 = fully_connected(hidden2, n_outputs, scope=\"outputs_\", activation_fn=None)"
   ]
  },
  {
   "cell_type": "code",
   "execution_count": 28,
   "metadata": {},
   "outputs": [],
   "source": [
    "with tf.name_scope(\"loss\"):\n",
    "    xentropy = tf.nn.sparse_softmax_cross_entropy_with_logits(labels=y, logits=logits2)\n",
    "    loss = tf.reduce_mean(xentropy, name=\"loss\")"
   ]
  },
  {
   "cell_type": "code",
   "execution_count": 29,
   "metadata": {},
   "outputs": [],
   "source": [
    "learning_rate = 0.01\n",
    "with tf.name_scope(\"train\"):\n",
    "    optimizer = tf.train.GradientDescentOptimizer(learning_rate)\n",
    "    training_op = optimizer.minimize(loss)"
   ]
  },
  {
   "cell_type": "code",
   "execution_count": 30,
   "metadata": {},
   "outputs": [],
   "source": [
    "with tf.name_scope(\"eval\"):\n",
    "    correct = tf.nn.in_top_k(logits2, y, 1)\n",
    "    accuracy = tf.reduce_mean(tf.cast(correct, tf.float32))"
   ]
  },
  {
   "cell_type": "code",
   "execution_count": 31,
   "metadata": {},
   "outputs": [],
   "source": [
    "init = tf.global_variables_initializer()\n",
    "saver = tf.train.Saver()"
   ]
  },
  {
   "cell_type": "code",
   "execution_count": 34,
   "metadata": {},
   "outputs": [],
   "source": [
    "from tensorflow.examples.tutorials.mnist import input_data"
   ]
  },
  {
   "cell_type": "code",
   "execution_count": 35,
   "metadata": {},
   "outputs": [
    {
     "name": "stdout",
     "output_type": "stream",
     "text": [
      "Extracting D:/李添的数据哦！！！/BookStudy/book4/MNIST_data/MNIST_data/train-images-idx3-ubyte.gz\n",
      "Extracting D:/李添的数据哦！！！/BookStudy/book4/MNIST_data/MNIST_data/train-labels-idx1-ubyte.gz\n",
      "Extracting D:/李添的数据哦！！！/BookStudy/book4/MNIST_data/MNIST_data/t10k-images-idx3-ubyte.gz\n",
      "Extracting D:/李添的数据哦！！！/BookStudy/book4/MNIST_data/MNIST_data/t10k-labels-idx1-ubyte.gz\n"
     ]
    }
   ],
   "source": [
    "mnist = input_data.read_data_sets(\"D:/李添的数据哦！！！/BookStudy/book4/MNIST_data/MNIST_data/\")"
   ]
  },
  {
   "cell_type": "code",
   "execution_count": 36,
   "metadata": {},
   "outputs": [],
   "source": [
    "n_epochs = 400\n",
    "batch_size = 50"
   ]
  },
  {
   "cell_type": "code",
   "execution_count": 38,
   "metadata": {},
   "outputs": [
    {
     "name": "stdout",
     "output_type": "stream",
     "text": [
      "0 Train accuracy： 0.92 Test accuracy： 0.8993\n",
      "1 Train accuracy： 0.86 Test accuracy： 0.9194\n",
      "2 Train accuracy： 0.94 Test accuracy： 0.9284\n",
      "3 Train accuracy： 0.96 Test accuracy： 0.9347\n",
      "4 Train accuracy： 0.94 Test accuracy： 0.9409\n",
      "5 Train accuracy： 0.94 Test accuracy： 0.9455\n",
      "6 Train accuracy： 0.96 Test accuracy： 0.9494\n",
      "7 Train accuracy： 0.88 Test accuracy： 0.9528\n",
      "8 Train accuracy： 0.98 Test accuracy： 0.9534\n",
      "9 Train accuracy： 0.98 Test accuracy： 0.9566\n",
      "10 Train accuracy： 0.92 Test accuracy： 0.9584\n",
      "11 Train accuracy： 1.0 Test accuracy： 0.9603\n",
      "12 Train accuracy： 0.92 Test accuracy： 0.9617\n",
      "13 Train accuracy： 0.96 Test accuracy： 0.9638\n",
      "14 Train accuracy： 0.98 Test accuracy： 0.9643\n",
      "15 Train accuracy： 1.0 Test accuracy： 0.9653\n",
      "16 Train accuracy： 0.96 Test accuracy： 0.9675\n",
      "17 Train accuracy： 0.94 Test accuracy： 0.9678\n",
      "18 Train accuracy： 0.9 Test accuracy： 0.9688\n",
      "19 Train accuracy： 0.98 Test accuracy： 0.9702\n",
      "20 Train accuracy： 0.98 Test accuracy： 0.9703\n",
      "21 Train accuracy： 1.0 Test accuracy： 0.9713\n",
      "22 Train accuracy： 0.98 Test accuracy： 0.9717\n",
      "23 Train accuracy： 1.0 Test accuracy： 0.9731\n",
      "24 Train accuracy： 1.0 Test accuracy： 0.9726\n",
      "25 Train accuracy： 1.0 Test accuracy： 0.9722\n",
      "26 Train accuracy： 0.96 Test accuracy： 0.9735\n",
      "27 Train accuracy： 1.0 Test accuracy： 0.9746\n",
      "28 Train accuracy： 0.98 Test accuracy： 0.9735\n",
      "29 Train accuracy： 0.98 Test accuracy： 0.9742\n",
      "30 Train accuracy： 0.98 Test accuracy： 0.9747\n",
      "31 Train accuracy： 0.98 Test accuracy： 0.9754\n",
      "32 Train accuracy： 1.0 Test accuracy： 0.9754\n",
      "33 Train accuracy： 0.98 Test accuracy： 0.9755\n",
      "34 Train accuracy： 1.0 Test accuracy： 0.9761\n",
      "35 Train accuracy： 0.96 Test accuracy： 0.9756\n",
      "36 Train accuracy： 1.0 Test accuracy： 0.9771\n",
      "37 Train accuracy： 1.0 Test accuracy： 0.9761\n",
      "38 Train accuracy： 1.0 Test accuracy： 0.977\n",
      "39 Train accuracy： 1.0 Test accuracy： 0.9764\n",
      "40 Train accuracy： 1.0 Test accuracy： 0.9768\n",
      "41 Train accuracy： 1.0 Test accuracy： 0.9764\n",
      "42 Train accuracy： 1.0 Test accuracy： 0.9766\n",
      "43 Train accuracy： 1.0 Test accuracy： 0.9766\n",
      "44 Train accuracy： 1.0 Test accuracy： 0.9776\n",
      "45 Train accuracy： 1.0 Test accuracy： 0.9775\n",
      "46 Train accuracy： 1.0 Test accuracy： 0.9771\n",
      "47 Train accuracy： 1.0 Test accuracy： 0.9766\n",
      "48 Train accuracy： 1.0 Test accuracy： 0.9777\n",
      "49 Train accuracy： 1.0 Test accuracy： 0.978\n",
      "50 Train accuracy： 1.0 Test accuracy： 0.9778\n",
      "51 Train accuracy： 1.0 Test accuracy： 0.9775\n",
      "52 Train accuracy： 0.98 Test accuracy： 0.9778\n",
      "53 Train accuracy： 0.98 Test accuracy： 0.9782\n",
      "54 Train accuracy： 1.0 Test accuracy： 0.9779\n",
      "55 Train accuracy： 1.0 Test accuracy： 0.9774\n",
      "56 Train accuracy： 1.0 Test accuracy： 0.9775\n",
      "57 Train accuracy： 1.0 Test accuracy： 0.9787\n",
      "58 Train accuracy： 1.0 Test accuracy： 0.9784\n",
      "59 Train accuracy： 1.0 Test accuracy： 0.9782\n",
      "60 Train accuracy： 1.0 Test accuracy： 0.9783\n",
      "61 Train accuracy： 1.0 Test accuracy： 0.9781\n",
      "62 Train accuracy： 1.0 Test accuracy： 0.9783\n",
      "63 Train accuracy： 1.0 Test accuracy： 0.9778\n",
      "64 Train accuracy： 1.0 Test accuracy： 0.9783\n",
      "65 Train accuracy： 1.0 Test accuracy： 0.9791\n",
      "66 Train accuracy： 1.0 Test accuracy： 0.979\n",
      "67 Train accuracy： 1.0 Test accuracy： 0.9785\n",
      "68 Train accuracy： 0.98 Test accuracy： 0.9786\n",
      "69 Train accuracy： 1.0 Test accuracy： 0.9785\n",
      "70 Train accuracy： 1.0 Test accuracy： 0.9783\n",
      "71 Train accuracy： 1.0 Test accuracy： 0.979\n",
      "72 Train accuracy： 1.0 Test accuracy： 0.9789\n",
      "73 Train accuracy： 1.0 Test accuracy： 0.9787\n",
      "74 Train accuracy： 1.0 Test accuracy： 0.9783\n",
      "75 Train accuracy： 1.0 Test accuracy： 0.9793\n",
      "76 Train accuracy： 1.0 Test accuracy： 0.979\n",
      "77 Train accuracy： 1.0 Test accuracy： 0.9792\n",
      "78 Train accuracy： 1.0 Test accuracy： 0.9793\n",
      "79 Train accuracy： 1.0 Test accuracy： 0.979\n",
      "80 Train accuracy： 1.0 Test accuracy： 0.9791\n",
      "81 Train accuracy： 1.0 Test accuracy： 0.979\n",
      "82 Train accuracy： 1.0 Test accuracy： 0.9793\n",
      "83 Train accuracy： 1.0 Test accuracy： 0.9788\n",
      "84 Train accuracy： 1.0 Test accuracy： 0.9791\n",
      "85 Train accuracy： 1.0 Test accuracy： 0.9789\n",
      "86 Train accuracy： 1.0 Test accuracy： 0.9796\n",
      "87 Train accuracy： 1.0 Test accuracy： 0.979\n",
      "88 Train accuracy： 1.0 Test accuracy： 0.979\n",
      "89 Train accuracy： 1.0 Test accuracy： 0.9794\n",
      "90 Train accuracy： 1.0 Test accuracy： 0.9789\n",
      "91 Train accuracy： 1.0 Test accuracy： 0.9791\n",
      "92 Train accuracy： 1.0 Test accuracy： 0.979\n",
      "93 Train accuracy： 1.0 Test accuracy： 0.9793\n",
      "94 Train accuracy： 1.0 Test accuracy： 0.9795\n",
      "95 Train accuracy： 1.0 Test accuracy： 0.9792\n",
      "96 Train accuracy： 1.0 Test accuracy： 0.9798\n",
      "97 Train accuracy： 1.0 Test accuracy： 0.9793\n",
      "98 Train accuracy： 1.0 Test accuracy： 0.9788\n",
      "99 Train accuracy： 1.0 Test accuracy： 0.9794\n",
      "100 Train accuracy： 1.0 Test accuracy： 0.9791\n",
      "101 Train accuracy： 1.0 Test accuracy： 0.9788\n",
      "102 Train accuracy： 1.0 Test accuracy： 0.9796\n",
      "103 Train accuracy： 1.0 Test accuracy： 0.9799\n",
      "104 Train accuracy： 1.0 Test accuracy： 0.9795\n",
      "105 Train accuracy： 1.0 Test accuracy： 0.9798\n",
      "106 Train accuracy： 1.0 Test accuracy： 0.9789\n",
      "107 Train accuracy： 1.0 Test accuracy： 0.9792\n",
      "108 Train accuracy： 1.0 Test accuracy： 0.9797\n",
      "109 Train accuracy： 1.0 Test accuracy： 0.9793\n",
      "110 Train accuracy： 1.0 Test accuracy： 0.9792\n",
      "111 Train accuracy： 1.0 Test accuracy： 0.9793\n",
      "112 Train accuracy： 1.0 Test accuracy： 0.9799\n",
      "113 Train accuracy： 1.0 Test accuracy： 0.9792\n",
      "114 Train accuracy： 1.0 Test accuracy： 0.9799\n",
      "115 Train accuracy： 1.0 Test accuracy： 0.9793\n",
      "116 Train accuracy： 1.0 Test accuracy： 0.9795\n",
      "117 Train accuracy： 1.0 Test accuracy： 0.9796\n",
      "118 Train accuracy： 1.0 Test accuracy： 0.9795\n",
      "119 Train accuracy： 1.0 Test accuracy： 0.9792\n",
      "120 Train accuracy： 1.0 Test accuracy： 0.9799\n",
      "121 Train accuracy： 1.0 Test accuracy： 0.9799\n",
      "122 Train accuracy： 1.0 Test accuracy： 0.9795\n",
      "123 Train accuracy： 1.0 Test accuracy： 0.9797\n",
      "124 Train accuracy： 1.0 Test accuracy： 0.9798\n",
      "125 Train accuracy： 1.0 Test accuracy： 0.9798\n",
      "126 Train accuracy： 1.0 Test accuracy： 0.9799\n",
      "127 Train accuracy： 1.0 Test accuracy： 0.9798\n",
      "128 Train accuracy： 1.0 Test accuracy： 0.9793\n",
      "129 Train accuracy： 1.0 Test accuracy： 0.9795\n",
      "130 Train accuracy： 1.0 Test accuracy： 0.9796\n",
      "131 Train accuracy： 1.0 Test accuracy： 0.9795\n",
      "132 Train accuracy： 1.0 Test accuracy： 0.9797\n",
      "133 Train accuracy： 1.0 Test accuracy： 0.9794\n",
      "134 Train accuracy： 1.0 Test accuracy： 0.9798\n",
      "135 Train accuracy： 1.0 Test accuracy： 0.9798\n",
      "136 Train accuracy： 1.0 Test accuracy： 0.9801\n",
      "137 Train accuracy： 1.0 Test accuracy： 0.9797\n",
      "138 Train accuracy： 1.0 Test accuracy： 0.9801\n",
      "139 Train accuracy： 1.0 Test accuracy： 0.98\n",
      "140 Train accuracy： 1.0 Test accuracy： 0.9799\n",
      "141 Train accuracy： 1.0 Test accuracy： 0.98\n",
      "142 Train accuracy： 1.0 Test accuracy： 0.9796\n",
      "143 Train accuracy： 1.0 Test accuracy： 0.9799\n",
      "144 Train accuracy： 1.0 Test accuracy： 0.9797\n",
      "145 Train accuracy： 1.0 Test accuracy： 0.9796\n",
      "146 Train accuracy： 1.0 Test accuracy： 0.98\n",
      "147 Train accuracy： 1.0 Test accuracy： 0.9792\n",
      "148 Train accuracy： 1.0 Test accuracy： 0.9798\n",
      "149 Train accuracy： 1.0 Test accuracy： 0.9796\n",
      "150 Train accuracy： 1.0 Test accuracy： 0.9796\n",
      "151 Train accuracy： 1.0 Test accuracy： 0.9796\n",
      "152 Train accuracy： 1.0 Test accuracy： 0.9797\n",
      "153 Train accuracy： 1.0 Test accuracy： 0.9802\n",
      "154 Train accuracy： 1.0 Test accuracy： 0.9795\n",
      "155 Train accuracy： 1.0 Test accuracy： 0.9796\n",
      "156 Train accuracy： 1.0 Test accuracy： 0.9793\n",
      "157 Train accuracy： 1.0 Test accuracy： 0.9797\n",
      "158 Train accuracy： 1.0 Test accuracy： 0.9798\n",
      "159 Train accuracy： 1.0 Test accuracy： 0.9794\n",
      "160 Train accuracy： 1.0 Test accuracy： 0.9798\n",
      "161 Train accuracy： 1.0 Test accuracy： 0.9794\n",
      "162 Train accuracy： 1.0 Test accuracy： 0.98\n",
      "163 Train accuracy： 1.0 Test accuracy： 0.9798\n",
      "164 Train accuracy： 1.0 Test accuracy： 0.9795\n",
      "165 Train accuracy： 1.0 Test accuracy： 0.98\n",
      "166 Train accuracy： 1.0 Test accuracy： 0.9802\n",
      "167 Train accuracy： 1.0 Test accuracy： 0.9797\n",
      "168 Train accuracy： 1.0 Test accuracy： 0.9798\n",
      "169 Train accuracy： 1.0 Test accuracy： 0.9799\n",
      "170 Train accuracy： 1.0 Test accuracy： 0.9796\n",
      "171 Train accuracy： 1.0 Test accuracy： 0.9795\n",
      "172 Train accuracy： 1.0 Test accuracy： 0.9798\n",
      "173 Train accuracy： 1.0 Test accuracy： 0.9799\n",
      "174 Train accuracy： 1.0 Test accuracy： 0.9795\n",
      "175 Train accuracy： 1.0 Test accuracy： 0.98\n",
      "176 Train accuracy： 1.0 Test accuracy： 0.9792\n",
      "177 Train accuracy： 1.0 Test accuracy： 0.9799\n",
      "178 Train accuracy： 1.0 Test accuracy： 0.98\n",
      "179 Train accuracy： 1.0 Test accuracy： 0.98\n",
      "180 Train accuracy： 1.0 Test accuracy： 0.9797\n",
      "181 Train accuracy： 1.0 Test accuracy： 0.9797\n",
      "182 Train accuracy： 1.0 Test accuracy： 0.9793\n",
      "183 Train accuracy： 1.0 Test accuracy： 0.9799\n",
      "184 Train accuracy： 1.0 Test accuracy： 0.98\n",
      "185 Train accuracy： 1.0 Test accuracy： 0.9795\n",
      "186 Train accuracy： 1.0 Test accuracy： 0.9796\n",
      "187 Train accuracy： 1.0 Test accuracy： 0.9802\n",
      "188 Train accuracy： 1.0 Test accuracy： 0.98\n",
      "189 Train accuracy： 1.0 Test accuracy： 0.9799\n",
      "190 Train accuracy： 1.0 Test accuracy： 0.9799\n",
      "191 Train accuracy： 1.0 Test accuracy： 0.9801\n",
      "192 Train accuracy： 1.0 Test accuracy： 0.9803\n",
      "193 Train accuracy： 1.0 Test accuracy： 0.9798\n",
      "194 Train accuracy： 1.0 Test accuracy： 0.9803\n",
      "195 Train accuracy： 1.0 Test accuracy： 0.98\n",
      "196 Train accuracy： 1.0 Test accuracy： 0.9801\n",
      "197 Train accuracy： 1.0 Test accuracy： 0.98\n",
      "198 Train accuracy： 1.0 Test accuracy： 0.9795\n",
      "199 Train accuracy： 1.0 Test accuracy： 0.9799\n",
      "200 Train accuracy： 1.0 Test accuracy： 0.9804\n",
      "201 Train accuracy： 1.0 Test accuracy： 0.9798\n",
      "202 Train accuracy： 1.0 Test accuracy： 0.9796\n",
      "203 Train accuracy： 1.0 Test accuracy： 0.9801\n",
      "204 Train accuracy： 1.0 Test accuracy： 0.9796\n",
      "205 Train accuracy： 1.0 Test accuracy： 0.9797\n",
      "206 Train accuracy： 1.0 Test accuracy： 0.9802\n",
      "207 Train accuracy： 1.0 Test accuracy： 0.9796\n",
      "208 Train accuracy： 1.0 Test accuracy： 0.98\n",
      "209 Train accuracy： 1.0 Test accuracy： 0.9801\n",
      "210 Train accuracy： 1.0 Test accuracy： 0.9795\n",
      "211 Train accuracy： 1.0 Test accuracy： 0.9797\n",
      "212 Train accuracy： 1.0 Test accuracy： 0.9794\n",
      "213 Train accuracy： 1.0 Test accuracy： 0.9801\n",
      "214 Train accuracy： 1.0 Test accuracy： 0.9804\n",
      "215 Train accuracy： 1.0 Test accuracy： 0.9796\n",
      "216 Train accuracy： 1.0 Test accuracy： 0.98\n",
      "217 Train accuracy： 1.0 Test accuracy： 0.9794\n",
      "218 Train accuracy： 1.0 Test accuracy： 0.9803\n",
      "219 Train accuracy： 1.0 Test accuracy： 0.9798\n",
      "220 Train accuracy： 1.0 Test accuracy： 0.9796\n",
      "221 Train accuracy： 1.0 Test accuracy： 0.9803\n",
      "222 Train accuracy： 1.0 Test accuracy： 0.9801\n",
      "223 Train accuracy： 1.0 Test accuracy： 0.9793\n",
      "224 Train accuracy： 1.0 Test accuracy： 0.9797\n",
      "225 Train accuracy： 1.0 Test accuracy： 0.9796\n",
      "226 Train accuracy： 1.0 Test accuracy： 0.9797\n",
      "227 Train accuracy： 1.0 Test accuracy： 0.9802\n",
      "228 Train accuracy： 1.0 Test accuracy： 0.9801\n",
      "229 Train accuracy： 1.0 Test accuracy： 0.9801\n",
      "230 Train accuracy： 1.0 Test accuracy： 0.98\n",
      "231 Train accuracy： 1.0 Test accuracy： 0.9801\n",
      "232 Train accuracy： 1.0 Test accuracy： 0.9798\n",
      "233 Train accuracy： 1.0 Test accuracy： 0.9797\n",
      "234 Train accuracy： 1.0 Test accuracy： 0.98\n",
      "235 Train accuracy： 1.0 Test accuracy： 0.98\n",
      "236 Train accuracy： 1.0 Test accuracy： 0.9797\n",
      "237 Train accuracy： 1.0 Test accuracy： 0.9801\n",
      "238 Train accuracy： 1.0 Test accuracy： 0.9801\n",
      "239 Train accuracy： 1.0 Test accuracy： 0.98\n",
      "240 Train accuracy： 1.0 Test accuracy： 0.9801\n",
      "241 Train accuracy： 1.0 Test accuracy： 0.9801\n",
      "242 Train accuracy： 1.0 Test accuracy： 0.9798\n",
      "243 Train accuracy： 1.0 Test accuracy： 0.9799\n",
      "244 Train accuracy： 1.0 Test accuracy： 0.9795\n",
      "245 Train accuracy： 1.0 Test accuracy： 0.9798\n",
      "246 Train accuracy： 1.0 Test accuracy： 0.9798\n",
      "247 Train accuracy： 1.0 Test accuracy： 0.9799\n",
      "248 Train accuracy： 1.0 Test accuracy： 0.9798\n",
      "249 Train accuracy： 1.0 Test accuracy： 0.9801\n",
      "250 Train accuracy： 1.0 Test accuracy： 0.9801\n",
      "251 Train accuracy： 1.0 Test accuracy： 0.9799\n",
      "252 Train accuracy： 1.0 Test accuracy： 0.9802\n",
      "253 Train accuracy： 1.0 Test accuracy： 0.9799\n",
      "254 Train accuracy： 1.0 Test accuracy： 0.9801\n",
      "255 Train accuracy： 1.0 Test accuracy： 0.9797\n",
      "256 Train accuracy： 1.0 Test accuracy： 0.9798\n",
      "257 Train accuracy： 1.0 Test accuracy： 0.9803\n",
      "258 Train accuracy： 1.0 Test accuracy： 0.9798\n",
      "259 Train accuracy： 1.0 Test accuracy： 0.9796\n",
      "260 Train accuracy： 1.0 Test accuracy： 0.98\n",
      "261 Train accuracy： 1.0 Test accuracy： 0.98\n",
      "262 Train accuracy： 1.0 Test accuracy： 0.9801\n",
      "263 Train accuracy： 1.0 Test accuracy： 0.98\n",
      "264 Train accuracy： 1.0 Test accuracy： 0.9801\n",
      "265 Train accuracy： 1.0 Test accuracy： 0.9794\n",
      "266 Train accuracy： 1.0 Test accuracy： 0.9798\n",
      "267 Train accuracy： 1.0 Test accuracy： 0.98\n",
      "268 Train accuracy： 1.0 Test accuracy： 0.9797\n",
      "269 Train accuracy： 1.0 Test accuracy： 0.98\n",
      "270 Train accuracy： 1.0 Test accuracy： 0.9801\n",
      "271 Train accuracy： 1.0 Test accuracy： 0.98\n",
      "272 Train accuracy： 1.0 Test accuracy： 0.98\n",
      "273 Train accuracy： 1.0 Test accuracy： 0.9797\n",
      "274 Train accuracy： 1.0 Test accuracy： 0.9797\n",
      "275 Train accuracy： 1.0 Test accuracy： 0.98\n",
      "276 Train accuracy： 1.0 Test accuracy： 0.98\n",
      "277 Train accuracy： 1.0 Test accuracy： 0.9799\n",
      "278 Train accuracy： 1.0 Test accuracy： 0.98\n",
      "279 Train accuracy： 1.0 Test accuracy： 0.9798\n",
      "280 Train accuracy： 1.0 Test accuracy： 0.9798\n",
      "281 Train accuracy： 1.0 Test accuracy： 0.9799\n",
      "282 Train accuracy： 1.0 Test accuracy： 0.98\n",
      "283 Train accuracy： 1.0 Test accuracy： 0.9798\n",
      "284 Train accuracy： 1.0 Test accuracy： 0.9799\n",
      "285 Train accuracy： 1.0 Test accuracy： 0.9799\n",
      "286 Train accuracy： 1.0 Test accuracy： 0.9797\n",
      "287 Train accuracy： 1.0 Test accuracy： 0.9803\n",
      "288 Train accuracy： 1.0 Test accuracy： 0.9796\n",
      "289 Train accuracy： 1.0 Test accuracy： 0.9799\n",
      "290 Train accuracy： 1.0 Test accuracy： 0.9798\n",
      "291 Train accuracy： 1.0 Test accuracy： 0.9796\n",
      "292 Train accuracy： 1.0 Test accuracy： 0.9801\n",
      "293 Train accuracy： 1.0 Test accuracy： 0.9799\n",
      "294 Train accuracy： 1.0 Test accuracy： 0.9801\n",
      "295 Train accuracy： 1.0 Test accuracy： 0.9799\n",
      "296 Train accuracy： 1.0 Test accuracy： 0.9799\n",
      "297 Train accuracy： 1.0 Test accuracy： 0.98\n",
      "298 Train accuracy： 1.0 Test accuracy： 0.9799\n",
      "299 Train accuracy： 1.0 Test accuracy： 0.9796\n",
      "300 Train accuracy： 1.0 Test accuracy： 0.9798\n",
      "301 Train accuracy： 1.0 Test accuracy： 0.9799\n",
      "302 Train accuracy： 1.0 Test accuracy： 0.9798\n",
      "303 Train accuracy： 1.0 Test accuracy： 0.9797\n",
      "304 Train accuracy： 1.0 Test accuracy： 0.9798\n",
      "305 Train accuracy： 1.0 Test accuracy： 0.9798\n",
      "306 Train accuracy： 1.0 Test accuracy： 0.9797\n",
      "307 Train accuracy： 1.0 Test accuracy： 0.9799\n",
      "308 Train accuracy： 1.0 Test accuracy： 0.9799\n",
      "309 Train accuracy： 1.0 Test accuracy： 0.9798\n",
      "310 Train accuracy： 1.0 Test accuracy： 0.9797\n",
      "311 Train accuracy： 1.0 Test accuracy： 0.9798\n",
      "312 Train accuracy： 1.0 Test accuracy： 0.9799\n",
      "313 Train accuracy： 1.0 Test accuracy： 0.9799\n",
      "314 Train accuracy： 1.0 Test accuracy： 0.98\n",
      "315 Train accuracy： 1.0 Test accuracy： 0.9798\n",
      "316 Train accuracy： 1.0 Test accuracy： 0.9795\n",
      "317 Train accuracy： 1.0 Test accuracy： 0.9797\n",
      "318 Train accuracy： 1.0 Test accuracy： 0.9799\n",
      "319 Train accuracy： 1.0 Test accuracy： 0.9797\n",
      "320 Train accuracy： 1.0 Test accuracy： 0.9799\n",
      "321 Train accuracy： 1.0 Test accuracy： 0.98\n",
      "322 Train accuracy： 1.0 Test accuracy： 0.9799\n",
      "323 Train accuracy： 1.0 Test accuracy： 0.9796\n",
      "324 Train accuracy： 1.0 Test accuracy： 0.9796\n",
      "325 Train accuracy： 1.0 Test accuracy： 0.9799\n",
      "326 Train accuracy： 1.0 Test accuracy： 0.9795\n",
      "327 Train accuracy： 1.0 Test accuracy： 0.9797\n",
      "328 Train accuracy： 1.0 Test accuracy： 0.9795\n",
      "329 Train accuracy： 1.0 Test accuracy： 0.9796\n",
      "330 Train accuracy： 1.0 Test accuracy： 0.9797\n",
      "331 Train accuracy： 1.0 Test accuracy： 0.9795\n",
      "332 Train accuracy： 1.0 Test accuracy： 0.9797\n",
      "333 Train accuracy： 1.0 Test accuracy： 0.9796\n",
      "334 Train accuracy： 1.0 Test accuracy： 0.9797\n",
      "335 Train accuracy： 1.0 Test accuracy： 0.9795\n",
      "336 Train accuracy： 1.0 Test accuracy： 0.98\n",
      "337 Train accuracy： 1.0 Test accuracy： 0.9796\n",
      "338 Train accuracy： 1.0 Test accuracy： 0.9799\n",
      "339 Train accuracy： 1.0 Test accuracy： 0.9796\n",
      "340 Train accuracy： 1.0 Test accuracy： 0.9794\n",
      "341 Train accuracy： 1.0 Test accuracy： 0.9797\n",
      "342 Train accuracy： 1.0 Test accuracy： 0.9795\n",
      "343 Train accuracy： 1.0 Test accuracy： 0.9795\n",
      "344 Train accuracy： 1.0 Test accuracy： 0.9796\n",
      "345 Train accuracy： 1.0 Test accuracy： 0.9798\n",
      "346 Train accuracy： 1.0 Test accuracy： 0.9796\n",
      "347 Train accuracy： 1.0 Test accuracy： 0.9797\n",
      "348 Train accuracy： 1.0 Test accuracy： 0.9795\n",
      "349 Train accuracy： 1.0 Test accuracy： 0.9794\n",
      "350 Train accuracy： 1.0 Test accuracy： 0.9798\n",
      "351 Train accuracy： 1.0 Test accuracy： 0.9796\n",
      "352 Train accuracy： 1.0 Test accuracy： 0.9795\n",
      "353 Train accuracy： 1.0 Test accuracy： 0.9796\n",
      "354 Train accuracy： 1.0 Test accuracy： 0.9794\n",
      "355 Train accuracy： 1.0 Test accuracy： 0.9796\n",
      "356 Train accuracy： 1.0 Test accuracy： 0.9794\n",
      "357 Train accuracy： 1.0 Test accuracy： 0.9796\n",
      "358 Train accuracy： 1.0 Test accuracy： 0.9796\n",
      "359 Train accuracy： 1.0 Test accuracy： 0.9795\n",
      "360 Train accuracy： 1.0 Test accuracy： 0.9794\n",
      "361 Train accuracy： 1.0 Test accuracy： 0.9794\n",
      "362 Train accuracy： 1.0 Test accuracy： 0.9795\n",
      "363 Train accuracy： 1.0 Test accuracy： 0.9794\n",
      "364 Train accuracy： 1.0 Test accuracy： 0.9796\n",
      "365 Train accuracy： 1.0 Test accuracy： 0.9797\n",
      "366 Train accuracy： 1.0 Test accuracy： 0.9796\n",
      "367 Train accuracy： 1.0 Test accuracy： 0.9796\n",
      "368 Train accuracy： 1.0 Test accuracy： 0.9798\n",
      "369 Train accuracy： 1.0 Test accuracy： 0.9795\n",
      "370 Train accuracy： 1.0 Test accuracy： 0.9796\n",
      "371 Train accuracy： 1.0 Test accuracy： 0.9795\n",
      "372 Train accuracy： 1.0 Test accuracy： 0.9796\n",
      "373 Train accuracy： 1.0 Test accuracy： 0.9795\n",
      "374 Train accuracy： 1.0 Test accuracy： 0.9796\n",
      "375 Train accuracy： 1.0 Test accuracy： 0.9795\n",
      "376 Train accuracy： 1.0 Test accuracy： 0.9796\n",
      "377 Train accuracy： 1.0 Test accuracy： 0.9797\n",
      "378 Train accuracy： 1.0 Test accuracy： 0.9796\n",
      "379 Train accuracy： 1.0 Test accuracy： 0.9795\n",
      "380 Train accuracy： 1.0 Test accuracy： 0.9795\n",
      "381 Train accuracy： 1.0 Test accuracy： 0.9795\n",
      "382 Train accuracy： 1.0 Test accuracy： 0.9795\n",
      "383 Train accuracy： 1.0 Test accuracy： 0.9795\n",
      "384 Train accuracy： 1.0 Test accuracy： 0.9795\n",
      "385 Train accuracy： 1.0 Test accuracy： 0.9796\n",
      "386 Train accuracy： 1.0 Test accuracy： 0.9796\n",
      "387 Train accuracy： 1.0 Test accuracy： 0.9795\n",
      "388 Train accuracy： 1.0 Test accuracy： 0.9797\n",
      "389 Train accuracy： 1.0 Test accuracy： 0.9795\n",
      "390 Train accuracy： 1.0 Test accuracy： 0.9796\n",
      "391 Train accuracy： 1.0 Test accuracy： 0.9795\n",
      "392 Train accuracy： 1.0 Test accuracy： 0.9795\n",
      "393 Train accuracy： 1.0 Test accuracy： 0.9796\n",
      "394 Train accuracy： 1.0 Test accuracy： 0.9794\n",
      "395 Train accuracy： 1.0 Test accuracy： 0.9795\n",
      "396 Train accuracy： 1.0 Test accuracy： 0.9795\n",
      "397 Train accuracy： 1.0 Test accuracy： 0.9794\n",
      "398 Train accuracy： 1.0 Test accuracy： 0.9796\n",
      "399 Train accuracy： 1.0 Test accuracy： 0.9795\n"
     ]
    }
   ],
   "source": [
    "with tf.Session() as sess:\n",
    "    init.run()\n",
    "    for epoch in range(n_epochs):\n",
    "        for iteration in range(mnist.train.num_examples // batch_size):\n",
    "            X_batch, y_batch = mnist.train.next_batch(batch_size)\n",
    "            sess.run(training_op, feed_dict={X: X_batch, y: y_batch})\n",
    "        acc_train = accuracy.eval(feed_dict={X: X_batch, y: y_batch})\n",
    "        acc_test = accuracy.eval(feed_dict={X: mnist.test.images, y: mnist.test.labels})\n",
    "        print(epoch, \"Train accuracy：\", acc_train, \"Test accuracy：\", acc_test)\n",
    "    save_path = saver.save(sess, \"D:/李添的数据哦！！！/BookStudy/book4/model/my_model_final.ckpt\")"
   ]
  },
  {
   "cell_type": "code",
   "execution_count": 41,
   "metadata": {},
   "outputs": [
    {
     "data": {
      "text/plain": [
       "array([[0.        , 0.        , 0.        , 0.        , 0.        ,\n",
       "        0.        , 0.        , 0.        , 0.        , 0.        ,\n",
       "        0.        , 0.        , 0.        , 0.        , 0.        ,\n",
       "        0.        , 0.        , 0.        , 0.        , 0.        ,\n",
       "        0.        , 0.        , 0.        , 0.        , 0.        ,\n",
       "        0.        , 0.        , 0.        , 0.        , 0.        ,\n",
       "        0.        , 0.        , 0.        , 0.        , 0.        ,\n",
       "        0.        , 0.        , 0.        , 0.        , 0.        ,\n",
       "        0.        , 0.        , 0.        , 0.        , 0.        ,\n",
       "        0.        , 0.        , 0.        , 0.        , 0.        ,\n",
       "        0.        , 0.        , 0.        , 0.        , 0.        ,\n",
       "        0.        , 0.        , 0.        , 0.        , 0.        ,\n",
       "        0.        , 0.        , 0.        , 0.        , 0.        ,\n",
       "        0.        , 0.        , 0.        , 0.        , 0.        ,\n",
       "        0.        , 0.        , 0.        , 0.        , 0.        ,\n",
       "        0.        , 0.        , 0.        , 0.        , 0.        ,\n",
       "        0.        , 0.        , 0.        , 0.        , 0.        ,\n",
       "        0.        , 0.        , 0.        , 0.        , 0.        ,\n",
       "        0.        , 0.        , 0.        , 0.        , 0.        ,\n",
       "        0.        , 0.        , 0.        , 0.        , 0.        ,\n",
       "        0.        , 0.        , 0.        , 0.        , 0.        ,\n",
       "        0.        , 0.        , 0.        , 0.        , 0.        ,\n",
       "        0.        , 0.        , 0.        , 0.        , 0.        ,\n",
       "        0.        , 0.        , 0.        , 0.        , 0.        ,\n",
       "        0.        , 0.        , 0.        , 0.        , 0.        ,\n",
       "        0.        , 0.        , 0.        , 0.        , 0.        ,\n",
       "        0.        , 0.        , 0.        , 0.        , 0.        ,\n",
       "        0.        , 0.        , 0.        , 0.        , 0.        ,\n",
       "        0.        , 0.        , 0.        , 0.        , 0.        ,\n",
       "        0.        , 0.        , 0.        , 0.        , 0.        ,\n",
       "        0.        , 0.        , 0.        , 0.        , 0.        ,\n",
       "        0.        , 0.        , 0.        , 0.        , 0.        ,\n",
       "        0.        , 0.        , 0.        , 0.        , 0.        ,\n",
       "        0.        , 0.        , 0.        , 0.        , 0.        ,\n",
       "        0.        , 0.        , 0.        , 0.        , 0.        ,\n",
       "        0.        , 0.        , 0.        , 0.        , 0.        ,\n",
       "        0.        , 0.        , 0.        , 0.        , 0.        ,\n",
       "        0.        , 0.        , 0.        , 0.        , 0.        ,\n",
       "        0.        , 0.        , 0.        , 0.        , 0.        ,\n",
       "        0.        , 0.        , 0.        , 0.        , 0.        ,\n",
       "        0.        , 0.        , 0.32941177, 0.7254902 , 0.62352943,\n",
       "        0.5921569 , 0.23529413, 0.14117648, 0.        , 0.        ,\n",
       "        0.        , 0.        , 0.        , 0.        , 0.        ,\n",
       "        0.        , 0.        , 0.        , 0.        , 0.        ,\n",
       "        0.        , 0.        , 0.        , 0.        , 0.        ,\n",
       "        0.        , 0.        , 0.        , 0.        , 0.        ,\n",
       "        0.8705883 , 0.9960785 , 0.9960785 , 0.9960785 , 0.9960785 ,\n",
       "        0.9450981 , 0.77647066, 0.77647066, 0.77647066, 0.77647066,\n",
       "        0.77647066, 0.77647066, 0.77647066, 0.77647066, 0.6666667 ,\n",
       "        0.20392159, 0.        , 0.        , 0.        , 0.        ,\n",
       "        0.        , 0.        , 0.        , 0.        , 0.        ,\n",
       "        0.        , 0.        , 0.        , 0.2627451 , 0.44705886,\n",
       "        0.28235295, 0.44705886, 0.6392157 , 0.89019614, 0.9960785 ,\n",
       "        0.882353  , 0.9960785 , 0.9960785 , 0.9960785 , 0.9803922 ,\n",
       "        0.8980393 , 0.9960785 , 0.9960785 , 0.54901963, 0.        ,\n",
       "        0.        , 0.        , 0.        , 0.        , 0.        ,\n",
       "        0.        , 0.        , 0.        , 0.        , 0.        ,\n",
       "        0.        , 0.        , 0.        , 0.        , 0.        ,\n",
       "        0.        , 0.06666667, 0.25882354, 0.05490196, 0.2627451 ,\n",
       "        0.2627451 , 0.2627451 , 0.23137257, 0.08235294, 0.92549026,\n",
       "        0.9960785 , 0.4156863 , 0.        , 0.        , 0.        ,\n",
       "        0.        , 0.        , 0.        , 0.        , 0.        ,\n",
       "        0.        , 0.        , 0.        , 0.        , 0.        ,\n",
       "        0.        , 0.        , 0.        , 0.        , 0.        ,\n",
       "        0.        , 0.        , 0.        , 0.        , 0.        ,\n",
       "        0.        , 0.3254902 , 0.9921569 , 0.8196079 , 0.07058824,\n",
       "        0.        , 0.        , 0.        , 0.        , 0.        ,\n",
       "        0.        , 0.        , 0.        , 0.        , 0.        ,\n",
       "        0.        , 0.        , 0.        , 0.        , 0.        ,\n",
       "        0.        , 0.        , 0.        , 0.        , 0.        ,\n",
       "        0.        , 0.        , 0.        , 0.08627451, 0.91372555,\n",
       "        1.        , 0.3254902 , 0.        , 0.        , 0.        ,\n",
       "        0.        , 0.        , 0.        , 0.        , 0.        ,\n",
       "        0.        , 0.        , 0.        , 0.        , 0.        ,\n",
       "        0.        , 0.        , 0.        , 0.        , 0.        ,\n",
       "        0.        , 0.        , 0.        , 0.        , 0.        ,\n",
       "        0.        , 0.5058824 , 0.9960785 , 0.9333334 , 0.17254902,\n",
       "        0.        , 0.        , 0.        , 0.        , 0.        ,\n",
       "        0.        , 0.        , 0.        , 0.        , 0.        ,\n",
       "        0.        , 0.        , 0.        , 0.        , 0.        ,\n",
       "        0.        , 0.        , 0.        , 0.        , 0.        ,\n",
       "        0.        , 0.        , 0.        , 0.23137257, 0.97647065,\n",
       "        0.9960785 , 0.24313727, 0.        , 0.        , 0.        ,\n",
       "        0.        , 0.        , 0.        , 0.        , 0.        ,\n",
       "        0.        , 0.        , 0.        , 0.        , 0.        ,\n",
       "        0.        , 0.        , 0.        , 0.        , 0.        ,\n",
       "        0.        , 0.        , 0.        , 0.        , 0.        ,\n",
       "        0.        , 0.52156866, 0.9960785 , 0.73333335, 0.01960784,\n",
       "        0.        , 0.        , 0.        , 0.        , 0.        ,\n",
       "        0.        , 0.        , 0.        , 0.        , 0.        ,\n",
       "        0.        , 0.        , 0.        , 0.        , 0.        ,\n",
       "        0.        , 0.        , 0.        , 0.        , 0.        ,\n",
       "        0.        , 0.        , 0.        , 0.03529412, 0.80392164,\n",
       "        0.9725491 , 0.227451  , 0.        , 0.        , 0.        ,\n",
       "        0.        , 0.        , 0.        , 0.        , 0.        ,\n",
       "        0.        , 0.        , 0.        , 0.        , 0.        ,\n",
       "        0.        , 0.        , 0.        , 0.        , 0.        ,\n",
       "        0.        , 0.        , 0.        , 0.        , 0.        ,\n",
       "        0.        , 0.49411768, 0.9960785 , 0.7137255 , 0.        ,\n",
       "        0.        , 0.        , 0.        , 0.        , 0.        ,\n",
       "        0.        , 0.        , 0.        , 0.        , 0.        ,\n",
       "        0.        , 0.        , 0.        , 0.        , 0.        ,\n",
       "        0.        , 0.        , 0.        , 0.        , 0.        ,\n",
       "        0.        , 0.        , 0.        , 0.29411766, 0.9843138 ,\n",
       "        0.94117653, 0.22352943, 0.        , 0.        , 0.        ,\n",
       "        0.        , 0.        , 0.        , 0.        , 0.        ,\n",
       "        0.        , 0.        , 0.        , 0.        , 0.        ,\n",
       "        0.        , 0.        , 0.        , 0.        , 0.        ,\n",
       "        0.        , 0.        , 0.        , 0.        , 0.        ,\n",
       "        0.07450981, 0.86666673, 0.9960785 , 0.6509804 , 0.        ,\n",
       "        0.        , 0.        , 0.        , 0.        , 0.        ,\n",
       "        0.        , 0.        , 0.        , 0.        , 0.        ,\n",
       "        0.        , 0.        , 0.        , 0.        , 0.        ,\n",
       "        0.        , 0.        , 0.        , 0.        , 0.        ,\n",
       "        0.        , 0.        , 0.01176471, 0.7960785 , 0.9960785 ,\n",
       "        0.8588236 , 0.13725491, 0.        , 0.        , 0.        ,\n",
       "        0.        , 0.        , 0.        , 0.        , 0.        ,\n",
       "        0.        , 0.        , 0.        , 0.        , 0.        ,\n",
       "        0.        , 0.        , 0.        , 0.        , 0.        ,\n",
       "        0.        , 0.        , 0.        , 0.        , 0.        ,\n",
       "        0.14901961, 0.9960785 , 0.9960785 , 0.3019608 , 0.        ,\n",
       "        0.        , 0.        , 0.        , 0.        , 0.        ,\n",
       "        0.        , 0.        , 0.        , 0.        , 0.        ,\n",
       "        0.        , 0.        , 0.        , 0.        , 0.        ,\n",
       "        0.        , 0.        , 0.        , 0.        , 0.        ,\n",
       "        0.        , 0.        , 0.12156864, 0.87843144, 0.9960785 ,\n",
       "        0.45098042, 0.00392157, 0.        , 0.        , 0.        ,\n",
       "        0.        , 0.        , 0.        , 0.        , 0.        ,\n",
       "        0.        , 0.        , 0.        , 0.        , 0.        ,\n",
       "        0.        , 0.        , 0.        , 0.        , 0.        ,\n",
       "        0.        , 0.        , 0.        , 0.        , 0.        ,\n",
       "        0.52156866, 0.9960785 , 0.9960785 , 0.20392159, 0.        ,\n",
       "        0.        , 0.        , 0.        , 0.        , 0.        ,\n",
       "        0.        , 0.        , 0.        , 0.        , 0.        ,\n",
       "        0.        , 0.        , 0.        , 0.        , 0.        ,\n",
       "        0.        , 0.        , 0.        , 0.        , 0.        ,\n",
       "        0.        , 0.        , 0.2392157 , 0.9490197 , 0.9960785 ,\n",
       "        0.9960785 , 0.20392159, 0.        , 0.        , 0.        ,\n",
       "        0.        , 0.        , 0.        , 0.        , 0.        ,\n",
       "        0.        , 0.        , 0.        , 0.        , 0.        ,\n",
       "        0.        , 0.        , 0.        , 0.        , 0.        ,\n",
       "        0.        , 0.        , 0.        , 0.        , 0.        ,\n",
       "        0.47450984, 0.9960785 , 0.9960785 , 0.8588236 , 0.15686275,\n",
       "        0.        , 0.        , 0.        , 0.        , 0.        ,\n",
       "        0.        , 0.        , 0.        , 0.        , 0.        ,\n",
       "        0.        , 0.        , 0.        , 0.        , 0.        ,\n",
       "        0.        , 0.        , 0.        , 0.        , 0.        ,\n",
       "        0.        , 0.        , 0.        , 0.47450984, 0.9960785 ,\n",
       "        0.8117648 , 0.07058824, 0.        , 0.        , 0.        ,\n",
       "        0.        , 0.        , 0.        , 0.        , 0.        ,\n",
       "        0.        , 0.        , 0.        , 0.        , 0.        ,\n",
       "        0.        , 0.        , 0.        , 0.        , 0.        ,\n",
       "        0.        , 0.        , 0.        , 0.        , 0.        ,\n",
       "        0.        , 0.        , 0.        , 0.        , 0.        ,\n",
       "        0.        , 0.        , 0.        , 0.        , 0.        ,\n",
       "        0.        , 0.        , 0.        , 0.        , 0.        ,\n",
       "        0.        , 0.        , 0.        , 0.        ]], dtype=float32)"
      ]
     },
     "execution_count": 41,
     "metadata": {},
     "output_type": "execute_result"
    }
   ],
   "source": [
    "X_test[0].reshape(1, -1)"
   ]
  },
  {
   "cell_type": "code",
   "execution_count": 42,
   "metadata": {},
   "outputs": [],
   "source": [
    "with tf.Session() as sess:\n",
    "    saver.restore(sess, \"D:/李添的数据哦！！！/BookStudy/book4/model/my_model_final.ckpt\")\n",
    "    X_new_scaled = X_test[0].reshape(1, -1)\n",
    "    Z = logits.eval(feed_dict={X: X_new_scaled})\n",
    "    y_pred = np.argmax(Z, axis=1)"
   ]
  },
  {
   "cell_type": "code",
   "execution_count": 43,
   "metadata": {},
   "outputs": [
    {
     "data": {
      "text/plain": [
       "array([6], dtype=int64)"
      ]
     },
     "execution_count": 43,
     "metadata": {},
     "output_type": "execute_result"
    }
   ],
   "source": [
    "y_pred"
   ]
  },
  {
   "cell_type": "code",
   "execution_count": 44,
   "metadata": {},
   "outputs": [
    {
     "data": {
      "text/plain": [
       "array([[1.0172969 , 3.8071704 , 0.494485  , 2.3816898 , 1.7650498 ,\n",
       "        0.6520101 , 4.10833   , 0.        , 0.        , 0.60733944]],\n",
       "      dtype=float32)"
      ]
     },
     "execution_count": 44,
     "metadata": {},
     "output_type": "execute_result"
    }
   ],
   "source": [
    "Z"
   ]
  },
  {
   "cell_type": "code",
   "execution_count": null,
   "metadata": {},
   "outputs": [],
   "source": []
  }
 ],
 "metadata": {
  "kernelspec": {
   "display_name": "Python 3",
   "language": "python",
   "name": "python3"
  },
  "language_info": {
   "codemirror_mode": {
    "name": "ipython",
    "version": 3
   },
   "file_extension": ".py",
   "mimetype": "text/x-python",
   "name": "python",
   "nbconvert_exporter": "python",
   "pygments_lexer": "ipython3",
   "version": "3.5.3"
  }
 },
 "nbformat": 4,
 "nbformat_minor": 4
}
