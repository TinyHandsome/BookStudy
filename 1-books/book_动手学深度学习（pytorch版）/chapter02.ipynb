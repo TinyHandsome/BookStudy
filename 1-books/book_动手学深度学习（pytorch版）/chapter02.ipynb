{
 "cells": [
  {
   "cell_type": "code",
   "execution_count": 1,
   "id": "2282595d-28cb-45fc-917a-bb09f91df4d2",
   "metadata": {
    "ExecuteTime": {
     "end_time": "2024-07-15T06:07:17.337041Z",
     "start_time": "2024-07-15T06:07:14.203591Z"
    },
    "tags": []
   },
   "outputs": [],
   "source": [
    "import torch"
   ]
  },
  {
   "cell_type": "code",
   "execution_count": 2,
   "id": "db36bd5b-e3e9-485c-b605-b0532f4a35e7",
   "metadata": {
    "ExecuteTime": {
     "end_time": "2024-07-15T06:07:17.345022Z",
     "start_time": "2024-07-15T06:07:17.339036Z"
    },
    "tags": []
   },
   "outputs": [],
   "source": [
    "x = torch.arange(12)"
   ]
  },
  {
   "cell_type": "code",
   "execution_count": 3,
   "id": "901e3123-1327-4181-a56d-f517dc00ab40",
   "metadata": {
    "ExecuteTime": {
     "end_time": "2024-07-15T06:07:17.355990Z",
     "start_time": "2024-07-15T06:07:17.347017Z"
    },
    "tags": []
   },
   "outputs": [
    {
     "data": {
      "text/plain": [
       "tensor([ 0,  1,  2,  3,  4,  5,  6,  7,  8,  9, 10, 11])"
      ]
     },
     "execution_count": 3,
     "metadata": {},
     "output_type": "execute_result"
    }
   ],
   "source": [
    "x"
   ]
  },
  {
   "cell_type": "code",
   "execution_count": 4,
   "id": "5db05c49-40ff-4ec5-962b-4b9ba5fe6cc8",
   "metadata": {
    "ExecuteTime": {
     "end_time": "2024-07-15T06:07:17.363970Z",
     "start_time": "2024-07-15T06:07:17.357987Z"
    },
    "tags": []
   },
   "outputs": [
    {
     "data": {
      "text/plain": [
       "torch.Size([12])"
      ]
     },
     "execution_count": 4,
     "metadata": {},
     "output_type": "execute_result"
    }
   ],
   "source": [
    "x.shape"
   ]
  },
  {
   "cell_type": "code",
   "execution_count": 5,
   "id": "0e412bb9-a053-435e-be34-e618a5297808",
   "metadata": {
    "ExecuteTime": {
     "end_time": "2024-07-15T06:07:17.370952Z",
     "start_time": "2024-07-15T06:07:17.364967Z"
    },
    "tags": []
   },
   "outputs": [
    {
     "data": {
      "text/plain": [
       "12"
      ]
     },
     "execution_count": 5,
     "metadata": {},
     "output_type": "execute_result"
    }
   ],
   "source": [
    "x.numel()"
   ]
  },
  {
   "cell_type": "code",
   "execution_count": 6,
   "id": "da90e298-3f04-48f5-b49f-d5fdac4e6c0c",
   "metadata": {
    "ExecuteTime": {
     "end_time": "2024-07-15T06:07:17.376937Z",
     "start_time": "2024-07-15T06:07:17.372947Z"
    },
    "tags": []
   },
   "outputs": [],
   "source": [
    "X = x.reshape(3,4)"
   ]
  },
  {
   "cell_type": "code",
   "execution_count": 7,
   "id": "28f0e096-2f43-4f8a-a009-d0107216734c",
   "metadata": {
    "ExecuteTime": {
     "end_time": "2024-07-15T06:07:17.385911Z",
     "start_time": "2024-07-15T06:07:17.378932Z"
    },
    "tags": []
   },
   "outputs": [
    {
     "data": {
      "text/plain": [
       "tensor([[ 0,  1,  2,  3],\n",
       "        [ 4,  5,  6,  7],\n",
       "        [ 8,  9, 10, 11]])"
      ]
     },
     "execution_count": 7,
     "metadata": {},
     "output_type": "execute_result"
    }
   ],
   "source": [
    "X"
   ]
  },
  {
   "cell_type": "code",
   "execution_count": 8,
   "id": "9ba2281e-6f1e-4a4b-8efd-af367adeeeae",
   "metadata": {
    "ExecuteTime": {
     "end_time": "2024-07-15T06:07:17.395886Z",
     "start_time": "2024-07-15T06:07:17.388903Z"
    },
    "tags": []
   },
   "outputs": [
    {
     "data": {
      "text/plain": [
       "12"
      ]
     },
     "execution_count": 8,
     "metadata": {},
     "output_type": "execute_result"
    }
   ],
   "source": [
    "X.numel()"
   ]
  },
  {
   "cell_type": "code",
   "execution_count": 9,
   "id": "bdd22207-6e81-4991-b2c0-1c912506db9d",
   "metadata": {
    "ExecuteTime": {
     "end_time": "2024-07-15T06:07:17.403863Z",
     "start_time": "2024-07-15T06:07:17.397881Z"
    },
    "tags": []
   },
   "outputs": [
    {
     "data": {
      "text/plain": [
       "tensor([ 0,  1,  2,  3,  4,  5,  6,  7,  8,  9, 10, 11])"
      ]
     },
     "execution_count": 9,
     "metadata": {},
     "output_type": "execute_result"
    }
   ],
   "source": [
    "x"
   ]
  },
  {
   "cell_type": "code",
   "execution_count": 10,
   "id": "9c72e3be-904e-4aa2-8188-70dcbccf6d19",
   "metadata": {
    "ExecuteTime": {
     "end_time": "2024-07-15T06:07:17.415866Z",
     "start_time": "2024-07-15T06:07:17.409847Z"
    },
    "tags": []
   },
   "outputs": [
    {
     "data": {
      "text/plain": [
       "tensor([[ 0,  1,  2],\n",
       "        [ 3,  4,  5],\n",
       "        [ 6,  7,  8],\n",
       "        [ 9, 10, 11]])"
      ]
     },
     "execution_count": 10,
     "metadata": {},
     "output_type": "execute_result"
    }
   ],
   "source": [
    "x.reshape(-1, 3)"
   ]
  },
  {
   "cell_type": "code",
   "execution_count": 11,
   "id": "6d740da3-9b72-4354-8cb2-568e0a7a16e7",
   "metadata": {
    "ExecuteTime": {
     "end_time": "2024-07-15T06:07:17.426802Z",
     "start_time": "2024-07-15T06:07:17.418823Z"
    },
    "tags": []
   },
   "outputs": [
    {
     "data": {
      "text/plain": [
       "tensor([[[0., 0., 0., 0.],\n",
       "         [0., 0., 0., 0.],\n",
       "         [0., 0., 0., 0.]],\n",
       "\n",
       "        [[0., 0., 0., 0.],\n",
       "         [0., 0., 0., 0.],\n",
       "         [0., 0., 0., 0.]]])"
      ]
     },
     "execution_count": 11,
     "metadata": {},
     "output_type": "execute_result"
    }
   ],
   "source": [
    "torch.zeros(2, 3, 4)"
   ]
  },
  {
   "cell_type": "code",
   "execution_count": 12,
   "id": "d96624e9-999f-4b65-8ea8-47b79569cdff",
   "metadata": {
    "ExecuteTime": {
     "end_time": "2024-07-15T06:07:17.434781Z",
     "start_time": "2024-07-15T06:07:17.427799Z"
    },
    "tags": []
   },
   "outputs": [
    {
     "data": {
      "text/plain": [
       "tensor([[ 2.2934,  0.4651, -0.2350, -0.3736],\n",
       "        [ 0.1281,  0.0650, -0.1469,  2.6429],\n",
       "        [-0.8253, -0.4808, -0.1956, -0.5463]])"
      ]
     },
     "execution_count": 12,
     "metadata": {},
     "output_type": "execute_result"
    }
   ],
   "source": [
    "torch.randn(3,4)"
   ]
  },
  {
   "cell_type": "code",
   "execution_count": 13,
   "id": "0081dc59-d4c3-4ee4-a7ce-59e8c0e14a33",
   "metadata": {
    "ExecuteTime": {
     "end_time": "2024-07-15T06:07:17.442760Z",
     "start_time": "2024-07-15T06:07:17.436776Z"
    },
    "tags": []
   },
   "outputs": [],
   "source": [
    "x = torch.tensor([1.0, 2, 4, 8])"
   ]
  },
  {
   "cell_type": "code",
   "execution_count": 14,
   "id": "1b35e6ab-f5be-48dc-a75a-ef7b0bc33cd7",
   "metadata": {
    "ExecuteTime": {
     "end_time": "2024-07-15T06:07:17.449742Z",
     "start_time": "2024-07-15T06:07:17.444754Z"
    },
    "tags": []
   },
   "outputs": [
    {
     "data": {
      "text/plain": [
       "tensor([1., 2., 4., 8.])"
      ]
     },
     "execution_count": 14,
     "metadata": {},
     "output_type": "execute_result"
    }
   ],
   "source": [
    "x"
   ]
  },
  {
   "cell_type": "code",
   "execution_count": 15,
   "id": "9a3ad0a4-1c73-414b-9aba-a92b65b0cab2",
   "metadata": {
    "ExecuteTime": {
     "end_time": "2024-07-15T06:07:17.457719Z",
     "start_time": "2024-07-15T06:07:17.452735Z"
    },
    "tags": []
   },
   "outputs": [],
   "source": [
    "y = torch.tensor([2, 2, 2, 2])"
   ]
  },
  {
   "cell_type": "code",
   "execution_count": 16,
   "id": "d1ad3a10-9ee4-4b0b-ab6e-06ad9cc5d1a8",
   "metadata": {
    "ExecuteTime": {
     "end_time": "2024-07-15T06:07:17.466696Z",
     "start_time": "2024-07-15T06:07:17.459715Z"
    },
    "tags": []
   },
   "outputs": [
    {
     "data": {
      "text/plain": [
       "tensor([ 3.,  4.,  6., 10.])"
      ]
     },
     "execution_count": 16,
     "metadata": {},
     "output_type": "execute_result"
    }
   ],
   "source": [
    "x + y"
   ]
  },
  {
   "cell_type": "code",
   "execution_count": 17,
   "id": "3ec3c61d-a6e0-4732-86fc-93cc87e6d745",
   "metadata": {
    "ExecuteTime": {
     "end_time": "2024-07-15T06:07:17.476670Z",
     "start_time": "2024-07-15T06:07:17.468691Z"
    },
    "tags": []
   },
   "outputs": [
    {
     "data": {
      "text/plain": [
       "tensor([-1.,  0.,  2.,  6.])"
      ]
     },
     "execution_count": 17,
     "metadata": {},
     "output_type": "execute_result"
    }
   ],
   "source": [
    "x - y"
   ]
  },
  {
   "cell_type": "code",
   "execution_count": 18,
   "id": "41a5dfe3-25e6-4277-aa33-579cda51df91",
   "metadata": {
    "ExecuteTime": {
     "end_time": "2024-07-15T06:07:17.485645Z",
     "start_time": "2024-07-15T06:07:17.477666Z"
    },
    "tags": []
   },
   "outputs": [
    {
     "data": {
      "text/plain": [
       "tensor([ 2.,  4.,  8., 16.])"
      ]
     },
     "execution_count": 18,
     "metadata": {},
     "output_type": "execute_result"
    }
   ],
   "source": [
    "x * y"
   ]
  },
  {
   "cell_type": "code",
   "execution_count": 19,
   "id": "0cfb4487-2c3c-4a65-8add-853f5b6f706b",
   "metadata": {
    "ExecuteTime": {
     "end_time": "2024-07-15T06:07:17.494621Z",
     "start_time": "2024-07-15T06:07:17.487644Z"
    },
    "tags": []
   },
   "outputs": [
    {
     "data": {
      "text/plain": [
       "tensor([0.5000, 1.0000, 2.0000, 4.0000])"
      ]
     },
     "execution_count": 19,
     "metadata": {},
     "output_type": "execute_result"
    }
   ],
   "source": [
    "x / y"
   ]
  },
  {
   "cell_type": "code",
   "execution_count": 20,
   "id": "0a972601-70ff-46e8-a30e-a03bbcf2cc3c",
   "metadata": {
    "ExecuteTime": {
     "end_time": "2024-07-15T06:07:17.501602Z",
     "start_time": "2024-07-15T06:07:17.495619Z"
    },
    "tags": []
   },
   "outputs": [
    {
     "data": {
      "text/plain": [
       "tensor([ 1.,  4., 16., 64.])"
      ]
     },
     "execution_count": 20,
     "metadata": {},
     "output_type": "execute_result"
    }
   ],
   "source": [
    "x ** y"
   ]
  },
  {
   "cell_type": "code",
   "execution_count": 21,
   "id": "202dfb59-aa76-4172-969c-31ed7af4e563",
   "metadata": {
    "ExecuteTime": {
     "end_time": "2024-07-15T06:07:17.511575Z",
     "start_time": "2024-07-15T06:07:17.502599Z"
    },
    "tags": []
   },
   "outputs": [
    {
     "data": {
      "text/plain": [
       "tensor([2.7183e+00, 7.3891e+00, 5.4598e+01, 2.9810e+03])"
      ]
     },
     "execution_count": 21,
     "metadata": {},
     "output_type": "execute_result"
    }
   ],
   "source": [
    "torch.exp(x)"
   ]
  },
  {
   "cell_type": "code",
   "execution_count": 22,
   "id": "2ce05418-2470-478a-be73-cec94fca650e",
   "metadata": {
    "ExecuteTime": {
     "end_time": "2024-07-15T06:07:17.519554Z",
     "start_time": "2024-07-15T06:07:17.513572Z"
    }
   },
   "outputs": [],
   "source": [
    "X = torch.arange(12, dtype=torch.float32).reshape((3, 4))"
   ]
  },
  {
   "cell_type": "code",
   "execution_count": 23,
   "id": "ed936020-0114-4e73-a3e2-e4c49348a381",
   "metadata": {
    "ExecuteTime": {
     "end_time": "2024-07-15T06:07:17.529529Z",
     "start_time": "2024-07-15T06:07:17.521550Z"
    },
    "tags": []
   },
   "outputs": [
    {
     "data": {
      "text/plain": [
       "tensor([[ 0.,  1.,  2.,  3.],\n",
       "        [ 4.,  5.,  6.,  7.],\n",
       "        [ 8.,  9., 10., 11.]])"
      ]
     },
     "execution_count": 23,
     "metadata": {},
     "output_type": "execute_result"
    }
   ],
   "source": [
    "X"
   ]
  },
  {
   "cell_type": "code",
   "execution_count": 24,
   "id": "ec05ecf8-16a6-4773-849f-1eb08ccb1752",
   "metadata": {
    "ExecuteTime": {
     "end_time": "2024-07-15T06:07:17.536510Z",
     "start_time": "2024-07-15T06:07:17.531523Z"
    },
    "tags": []
   },
   "outputs": [],
   "source": [
    "Y = torch.tensor([[2.0, 1, 4, 3], [1, 2, 3, 4], [4, 3, 2, 1]])"
   ]
  },
  {
   "cell_type": "code",
   "execution_count": 25,
   "id": "e11be3ae-a07f-447c-98fd-4ab987203b70",
   "metadata": {
    "ExecuteTime": {
     "end_time": "2024-07-15T06:07:22.901053Z",
     "start_time": "2024-07-15T06:07:22.895068Z"
    }
   },
   "outputs": [
    {
     "data": {
      "text/plain": [
       "tensor([[2., 1., 4., 3.],\n",
       "        [1., 2., 3., 4.],\n",
       "        [4., 3., 2., 1.]])"
      ]
     },
     "execution_count": 25,
     "metadata": {},
     "output_type": "execute_result"
    }
   ],
   "source": [
    "Y"
   ]
  },
  {
   "cell_type": "code",
   "execution_count": 26,
   "id": "96fc32e5",
   "metadata": {
    "ExecuteTime": {
     "end_time": "2024-07-15T06:08:06.825161Z",
     "start_time": "2024-07-15T06:08:06.819178Z"
    }
   },
   "outputs": [
    {
     "data": {
      "text/plain": [
       "tensor([[ 0.,  1.,  2.,  3.],\n",
       "        [ 4.,  5.,  6.,  7.],\n",
       "        [ 8.,  9., 10., 11.],\n",
       "        [ 2.,  1.,  4.,  3.],\n",
       "        [ 1.,  2.,  3.,  4.],\n",
       "        [ 4.,  3.,  2.,  1.]])"
      ]
     },
     "execution_count": 26,
     "metadata": {},
     "output_type": "execute_result"
    }
   ],
   "source": [
    "torch.cat((X, Y), dim=0)"
   ]
  },
  {
   "cell_type": "code",
   "execution_count": 27,
   "id": "db4334a2",
   "metadata": {
    "ExecuteTime": {
     "end_time": "2024-07-15T06:08:25.104861Z",
     "start_time": "2024-07-15T06:08:25.098876Z"
    }
   },
   "outputs": [
    {
     "data": {
      "text/plain": [
       "tensor([[ 0.,  1.,  2.,  3.,  2.,  1.,  4.,  3.],\n",
       "        [ 4.,  5.,  6.,  7.,  1.,  2.,  3.,  4.],\n",
       "        [ 8.,  9., 10., 11.,  4.,  3.,  2.,  1.]])"
      ]
     },
     "execution_count": 27,
     "metadata": {},
     "output_type": "execute_result"
    }
   ],
   "source": [
    "torch.cat((X, Y), dim=1)"
   ]
  },
  {
   "cell_type": "code",
   "execution_count": 28,
   "id": "2910b6ae",
   "metadata": {
    "ExecuteTime": {
     "end_time": "2024-07-15T06:10:53.964013Z",
     "start_time": "2024-07-15T06:10:53.957031Z"
    }
   },
   "outputs": [
    {
     "data": {
      "text/plain": [
       "tensor([[False,  True, False,  True],\n",
       "        [False, False, False, False],\n",
       "        [False, False, False, False]])"
      ]
     },
     "execution_count": 28,
     "metadata": {},
     "output_type": "execute_result"
    }
   ],
   "source": [
    "X == Y"
   ]
  },
  {
   "cell_type": "code",
   "execution_count": 29,
   "id": "75c0dc0f",
   "metadata": {
    "ExecuteTime": {
     "end_time": "2024-07-15T06:11:08.257834Z",
     "start_time": "2024-07-15T06:11:08.243871Z"
    }
   },
   "outputs": [
    {
     "data": {
      "text/plain": [
       "tensor(66.)"
      ]
     },
     "execution_count": 29,
     "metadata": {},
     "output_type": "execute_result"
    }
   ],
   "source": [
    "X.sum()"
   ]
  },
  {
   "cell_type": "code",
   "execution_count": 30,
   "id": "a1b5136c",
   "metadata": {
    "ExecuteTime": {
     "end_time": "2024-07-15T06:15:07.486053Z",
     "start_time": "2024-07-15T06:15:07.482062Z"
    }
   },
   "outputs": [],
   "source": [
    "a = torch.arange(3).reshape((3, 1))"
   ]
  },
  {
   "cell_type": "code",
   "execution_count": 31,
   "id": "b1dd2910",
   "metadata": {
    "ExecuteTime": {
     "end_time": "2024-07-15T06:15:21.878758Z",
     "start_time": "2024-07-15T06:15:21.873771Z"
    }
   },
   "outputs": [],
   "source": [
    "b = torch.arange(2).reshape((1, 2))"
   ]
  },
  {
   "cell_type": "code",
   "execution_count": 32,
   "id": "0c383b44",
   "metadata": {
    "ExecuteTime": {
     "end_time": "2024-07-15T06:15:25.161114Z",
     "start_time": "2024-07-15T06:15:25.155128Z"
    }
   },
   "outputs": [
    {
     "data": {
      "text/plain": [
       "(tensor([[0],\n",
       "         [1],\n",
       "         [2]]),\n",
       " tensor([[0, 1]]))"
      ]
     },
     "execution_count": 32,
     "metadata": {},
     "output_type": "execute_result"
    }
   ],
   "source": [
    "a, b"
   ]
  },
  {
   "cell_type": "code",
   "execution_count": 33,
   "id": "012fe7f0",
   "metadata": {
    "ExecuteTime": {
     "end_time": "2024-07-15T06:15:42.844396Z",
     "start_time": "2024-07-15T06:15:42.838411Z"
    }
   },
   "outputs": [
    {
     "data": {
      "text/plain": [
       "tensor([[0, 1],\n",
       "        [1, 2],\n",
       "        [2, 3]])"
      ]
     },
     "execution_count": 33,
     "metadata": {},
     "output_type": "execute_result"
    }
   ],
   "source": [
    "a + b"
   ]
  },
  {
   "cell_type": "code",
   "execution_count": 35,
   "id": "9c63d472",
   "metadata": {},
   "outputs": [
    {
     "data": {
      "text/plain": [
       "tensor([ 8.,  9., 10., 11.])"
      ]
     },
     "execution_count": 35,
     "metadata": {},
     "output_type": "execute_result"
    }
   ],
   "source": [
    "X[-1]"
   ]
  },
  {
   "cell_type": "code",
   "execution_count": 36,
   "id": "3ac67775-0504-4223-b465-6f31ba14390b",
   "metadata": {
    "tags": []
   },
   "outputs": [
    {
     "data": {
      "text/plain": [
       "tensor([[ 4.,  5.,  6.,  7.],\n",
       "        [ 8.,  9., 10., 11.]])"
      ]
     },
     "execution_count": 36,
     "metadata": {},
     "output_type": "execute_result"
    }
   ],
   "source": [
    "X[1:3]"
   ]
  },
  {
   "cell_type": "code",
   "execution_count": 37,
   "id": "ba4f7859-5990-466f-9881-e12d4c7e0b16",
   "metadata": {
    "tags": []
   },
   "outputs": [
    {
     "data": {
      "text/plain": [
       "tensor([[ 0.,  1.,  2.,  3.],\n",
       "        [ 4.,  5.,  6.,  7.],\n",
       "        [ 8.,  9., 10., 11.]])"
      ]
     },
     "execution_count": 37,
     "metadata": {},
     "output_type": "execute_result"
    }
   ],
   "source": [
    "X"
   ]
  },
  {
   "cell_type": "code",
   "execution_count": 38,
   "id": "99551fb4-156d-43c6-aa20-486d9c61363a",
   "metadata": {
    "tags": []
   },
   "outputs": [],
   "source": [
    "X[1, 2]=9"
   ]
  },
  {
   "cell_type": "code",
   "execution_count": 39,
   "id": "98cef406-f141-4b50-a9f2-19fe149317d7",
   "metadata": {
    "tags": []
   },
   "outputs": [
    {
     "data": {
      "text/plain": [
       "tensor([[ 0.,  1.,  2.,  3.],\n",
       "        [ 4.,  5.,  9.,  7.],\n",
       "        [ 8.,  9., 10., 11.]])"
      ]
     },
     "execution_count": 39,
     "metadata": {},
     "output_type": "execute_result"
    }
   ],
   "source": [
    "X"
   ]
  },
  {
   "cell_type": "code",
   "execution_count": 40,
   "id": "95a1b16e-d75c-4bae-ab1a-29d80580a965",
   "metadata": {
    "tags": []
   },
   "outputs": [],
   "source": [
    "X[0:2, :] = 9"
   ]
  },
  {
   "cell_type": "code",
   "execution_count": 41,
   "id": "c93dcb36-8ee6-480b-b630-beb50a269aa4",
   "metadata": {
    "tags": []
   },
   "outputs": [
    {
     "data": {
      "text/plain": [
       "tensor([[ 9.,  9.,  9.,  9.],\n",
       "        [ 9.,  9.,  9.,  9.],\n",
       "        [ 8.,  9., 10., 11.]])"
      ]
     },
     "execution_count": 41,
     "metadata": {},
     "output_type": "execute_result"
    }
   ],
   "source": [
    "X"
   ]
  },
  {
   "cell_type": "code",
   "execution_count": 42,
   "id": "e40687fa-99ea-4e4b-8be8-334ece0a2c78",
   "metadata": {
    "tags": []
   },
   "outputs": [],
   "source": [
    "before = id(Y)"
   ]
  },
  {
   "cell_type": "code",
   "execution_count": 43,
   "id": "d9ad7050-885c-43fd-905f-b1b2f7d6b914",
   "metadata": {
    "tags": []
   },
   "outputs": [
    {
     "data": {
      "text/plain": [
       "2221968775032"
      ]
     },
     "execution_count": 43,
     "metadata": {},
     "output_type": "execute_result"
    }
   ],
   "source": [
    "before"
   ]
  },
  {
   "cell_type": "code",
   "execution_count": 44,
   "id": "8cca0a15-027b-4970-905f-3c72f092f40d",
   "metadata": {
    "tags": []
   },
   "outputs": [],
   "source": [
    "Y = Y + X"
   ]
  },
  {
   "cell_type": "code",
   "execution_count": 45,
   "id": "af6e13b1-004f-43b2-9c33-1e6390cc8e7e",
   "metadata": {
    "tags": []
   },
   "outputs": [
    {
     "data": {
      "text/plain": [
       "2221968807480"
      ]
     },
     "execution_count": 45,
     "metadata": {},
     "output_type": "execute_result"
    }
   ],
   "source": [
    "id(Y)"
   ]
  },
  {
   "cell_type": "code",
   "execution_count": 46,
   "id": "22dcab0d-9235-4311-97e8-07d7f861e696",
   "metadata": {
    "tags": []
   },
   "outputs": [],
   "source": [
    "Z = torch.zeros_like(Y)"
   ]
  },
  {
   "cell_type": "code",
   "execution_count": 47,
   "id": "6ae856c7-086b-4a04-850c-9eab1ff3a61e",
   "metadata": {
    "tags": []
   },
   "outputs": [
    {
     "data": {
      "text/plain": [
       "tensor([[0., 0., 0., 0.],\n",
       "        [0., 0., 0., 0.],\n",
       "        [0., 0., 0., 0.]])"
      ]
     },
     "execution_count": 47,
     "metadata": {},
     "output_type": "execute_result"
    }
   ],
   "source": [
    "Z"
   ]
  },
  {
   "cell_type": "code",
   "execution_count": 48,
   "id": "6d79501e-9bfd-42fd-aaa3-56aeae46b503",
   "metadata": {
    "tags": []
   },
   "outputs": [
    {
     "data": {
      "text/plain": [
       "2221968782744"
      ]
     },
     "execution_count": 48,
     "metadata": {},
     "output_type": "execute_result"
    }
   ],
   "source": [
    "id(Z)"
   ]
  },
  {
   "cell_type": "code",
   "execution_count": 49,
   "id": "a6b694d8-2b69-4c2a-8923-21e42c5fb208",
   "metadata": {
    "tags": []
   },
   "outputs": [],
   "source": [
    "Z[:] = X + Y"
   ]
  },
  {
   "cell_type": "code",
   "execution_count": 50,
   "id": "e0cd62cb-7a5b-429e-962e-07ea97ae95de",
   "metadata": {
    "tags": []
   },
   "outputs": [
    {
     "data": {
      "text/plain": [
       "2221968782744"
      ]
     },
     "execution_count": 50,
     "metadata": {},
     "output_type": "execute_result"
    }
   ],
   "source": [
    "id(Z)"
   ]
  },
  {
   "cell_type": "code",
   "execution_count": 51,
   "id": "4f9eb3bf-bc20-4a09-b226-601032e379b1",
   "metadata": {
    "tags": []
   },
   "outputs": [
    {
     "data": {
      "text/plain": [
       "tensor([[20., 19., 22., 21.],\n",
       "        [19., 20., 21., 22.],\n",
       "        [20., 21., 22., 23.]])"
      ]
     },
     "execution_count": 51,
     "metadata": {},
     "output_type": "execute_result"
    }
   ],
   "source": [
    "Z"
   ]
  },
  {
   "cell_type": "code",
   "execution_count": 53,
   "id": "46956343-a239-4fd7-a947-6e14e653016d",
   "metadata": {
    "tags": []
   },
   "outputs": [],
   "source": [
    "Y[:] = X + Y"
   ]
  },
  {
   "cell_type": "code",
   "execution_count": 54,
   "id": "69f657a4-53b1-41e0-be25-9448470905c1",
   "metadata": {
    "tags": []
   },
   "outputs": [
    {
     "data": {
      "text/plain": [
       "2221968807480"
      ]
     },
     "execution_count": 54,
     "metadata": {},
     "output_type": "execute_result"
    }
   ],
   "source": [
    "id(Y)"
   ]
  },
  {
   "cell_type": "code",
   "execution_count": 55,
   "id": "787ffcdc-78b6-4aed-8e07-bbe53051e14e",
   "metadata": {
    "tags": []
   },
   "outputs": [],
   "source": [
    "A = X.numpy()"
   ]
  },
  {
   "cell_type": "code",
   "execution_count": 56,
   "id": "434ac1c1-9329-4313-bad4-4d6430f9e1b6",
   "metadata": {
    "tags": []
   },
   "outputs": [
    {
     "data": {
      "text/plain": [
       "array([[ 9.,  9.,  9.,  9.],\n",
       "       [ 9.,  9.,  9.,  9.],\n",
       "       [ 8.,  9., 10., 11.]], dtype=float32)"
      ]
     },
     "execution_count": 56,
     "metadata": {},
     "output_type": "execute_result"
    }
   ],
   "source": [
    "A"
   ]
  },
  {
   "cell_type": "code",
   "execution_count": 57,
   "id": "9563e2af-da9f-4fa1-89c5-c1be3a1f648d",
   "metadata": {
    "tags": []
   },
   "outputs": [],
   "source": [
    "B = torch.tensor(A)"
   ]
  },
  {
   "cell_type": "code",
   "execution_count": 58,
   "id": "c9915066-c48f-429e-8b07-bc1fa7bba306",
   "metadata": {
    "tags": []
   },
   "outputs": [
    {
     "data": {
      "text/plain": [
       "(numpy.ndarray, torch.Tensor)"
      ]
     },
     "execution_count": 58,
     "metadata": {},
     "output_type": "execute_result"
    }
   ],
   "source": [
    "type(A), type(B)"
   ]
  },
  {
   "cell_type": "code",
   "execution_count": 59,
   "id": "a0d7ca91-1867-46a8-a663-6eeb0dbb1adb",
   "metadata": {
    "tags": []
   },
   "outputs": [],
   "source": [
    "a = torch.tensor([3.5])"
   ]
  },
  {
   "cell_type": "code",
   "execution_count": 60,
   "id": "5cbc9f3f-90e3-4fff-a95e-6ef63c190479",
   "metadata": {
    "tags": []
   },
   "outputs": [
    {
     "data": {
      "text/plain": [
       "tensor([3.5000])"
      ]
     },
     "execution_count": 60,
     "metadata": {},
     "output_type": "execute_result"
    }
   ],
   "source": [
    "a"
   ]
  },
  {
   "cell_type": "code",
   "execution_count": 61,
   "id": "def62c08-be4f-41c4-b6cc-a240bfa82973",
   "metadata": {
    "tags": []
   },
   "outputs": [
    {
     "data": {
      "text/plain": [
       "tensor([3.5000])"
      ]
     },
     "execution_count": 61,
     "metadata": {},
     "output_type": "execute_result"
    }
   ],
   "source": [
    "a"
   ]
  },
  {
   "cell_type": "code",
   "execution_count": null,
   "id": "9aeee29e-a785-4b01-aa64-042fda3e74bd",
   "metadata": {},
   "outputs": [],
   "source": [
    "a.item()"
   ]
  },
  {
   "cell_type": "markdown",
   "id": "6a12c5f0-50f6-40ab-b733-f0dc0483a09f",
   "metadata": {
    "tags": []
   },
   "source": [
    "## 数据预处理"
   ]
  },
  {
   "cell_type": "markdown",
   "id": "babb0956-1c63-43d7-929f-38543b0c7907",
   "metadata": {},
   "source": [
    "1. 读取数据集"
   ]
  },
  {
   "cell_type": "code",
   "execution_count": 1,
   "id": "e67ea1ec-f2f9-4146-bddd-8e3eabba0709",
   "metadata": {
    "tags": []
   },
   "outputs": [],
   "source": [
    "import os"
   ]
  },
  {
   "cell_type": "code",
   "execution_count": 3,
   "id": "7ef7fd42-e591-4276-b500-1b92b9f32307",
   "metadata": {
    "tags": []
   },
   "outputs": [],
   "source": [
    "os.makedirs('data', exist_ok=True)"
   ]
  },
  {
   "cell_type": "code",
   "execution_count": 4,
   "id": "e817c935-52ab-41e1-b3f7-cfea981beda5",
   "metadata": {
    "tags": []
   },
   "outputs": [],
   "source": [
    "data_file = 'data/house_tiny.csv'"
   ]
  },
  {
   "cell_type": "code",
   "execution_count": 5,
   "id": "a1463b26-1d3b-4170-b8b3-58edd09f52fa",
   "metadata": {
    "tags": []
   },
   "outputs": [],
   "source": [
    "with open(data_file, 'w') as f:\n",
    "    f.write('NumRooms,Alley,Price\\n')\n",
    "    f.write('NA,Pave,127500\\n')\n",
    "    f.write('2,NA,106000\\n')\n",
    "    f.write('4,NA,178100\\n')\n",
    "    f.write('NA,NA,140000\\n')"
   ]
  },
  {
   "cell_type": "code",
   "execution_count": 6,
   "id": "34d96101-e6c4-460f-b5ee-54919d8fb575",
   "metadata": {
    "tags": []
   },
   "outputs": [],
   "source": [
    "import pandas as pd"
   ]
  },
  {
   "cell_type": "code",
   "execution_count": 7,
   "id": "6d5fa04b-8b2c-43d3-ae9b-752d6395724f",
   "metadata": {
    "tags": []
   },
   "outputs": [],
   "source": [
    "data = pd.read_csv(data_file)"
   ]
  },
  {
   "cell_type": "code",
   "execution_count": 8,
   "id": "a673ad75-1388-4919-aa4d-d7f16f95ce85",
   "metadata": {
    "tags": []
   },
   "outputs": [
    {
     "data": {
      "text/html": [
       "<div>\n",
       "<style scoped>\n",
       "    .dataframe tbody tr th:only-of-type {\n",
       "        vertical-align: middle;\n",
       "    }\n",
       "\n",
       "    .dataframe tbody tr th {\n",
       "        vertical-align: top;\n",
       "    }\n",
       "\n",
       "    .dataframe thead th {\n",
       "        text-align: right;\n",
       "    }\n",
       "</style>\n",
       "<table border=\"1\" class=\"dataframe\">\n",
       "  <thead>\n",
       "    <tr style=\"text-align: right;\">\n",
       "      <th></th>\n",
       "      <th>NumRooms</th>\n",
       "      <th>Alley</th>\n",
       "      <th>Price</th>\n",
       "    </tr>\n",
       "  </thead>\n",
       "  <tbody>\n",
       "    <tr>\n",
       "      <th>0</th>\n",
       "      <td>NaN</td>\n",
       "      <td>Pave</td>\n",
       "      <td>127500</td>\n",
       "    </tr>\n",
       "    <tr>\n",
       "      <th>1</th>\n",
       "      <td>2.0</td>\n",
       "      <td>NaN</td>\n",
       "      <td>106000</td>\n",
       "    </tr>\n",
       "    <tr>\n",
       "      <th>2</th>\n",
       "      <td>4.0</td>\n",
       "      <td>NaN</td>\n",
       "      <td>178100</td>\n",
       "    </tr>\n",
       "    <tr>\n",
       "      <th>3</th>\n",
       "      <td>NaN</td>\n",
       "      <td>NaN</td>\n",
       "      <td>140000</td>\n",
       "    </tr>\n",
       "  </tbody>\n",
       "</table>\n",
       "</div>"
      ],
      "text/plain": [
       "   NumRooms Alley   Price\n",
       "0       NaN  Pave  127500\n",
       "1       2.0   NaN  106000\n",
       "2       4.0   NaN  178100\n",
       "3       NaN   NaN  140000"
      ]
     },
     "execution_count": 8,
     "metadata": {},
     "output_type": "execute_result"
    }
   ],
   "source": [
    "data"
   ]
  },
  {
   "cell_type": "markdown",
   "id": "eb96ccf3-e76f-4a02-bada-e9eadf671bb7",
   "metadata": {},
   "source": [
    "2. 处理缺失值"
   ]
  },
  {
   "cell_type": "code",
   "execution_count": 10,
   "id": "f0852ff4-868b-4307-8faa-f61c72404b65",
   "metadata": {
    "tags": []
   },
   "outputs": [],
   "source": [
    "inputs, outputs = data.iloc[:, 0: 2], data.iloc[:, 2]"
   ]
  },
  {
   "cell_type": "code",
   "execution_count": 11,
   "id": "929b37c6-cbc6-4f0d-8b52-43d4ba3a68b2",
   "metadata": {
    "tags": []
   },
   "outputs": [
    {
     "name": "stderr",
     "output_type": "stream",
     "text": [
      "D:\\python3.78\\lib\\site-packages\\ipykernel_launcher.py:1: FutureWarning: Dropping of nuisance columns in DataFrame reductions (with 'numeric_only=None') is deprecated; in a future version this will raise TypeError.  Select only valid columns before calling the reduction.\n",
      "  \"\"\"Entry point for launching an IPython kernel.\n"
     ]
    }
   ],
   "source": [
    "inputs = inputs.fillna(inputs.mean())"
   ]
  },
  {
   "cell_type": "code",
   "execution_count": 12,
   "id": "22bfc226-8967-4a16-a508-5bfecf5d582b",
   "metadata": {
    "tags": []
   },
   "outputs": [
    {
     "data": {
      "text/html": [
       "<div>\n",
       "<style scoped>\n",
       "    .dataframe tbody tr th:only-of-type {\n",
       "        vertical-align: middle;\n",
       "    }\n",
       "\n",
       "    .dataframe tbody tr th {\n",
       "        vertical-align: top;\n",
       "    }\n",
       "\n",
       "    .dataframe thead th {\n",
       "        text-align: right;\n",
       "    }\n",
       "</style>\n",
       "<table border=\"1\" class=\"dataframe\">\n",
       "  <thead>\n",
       "    <tr style=\"text-align: right;\">\n",
       "      <th></th>\n",
       "      <th>NumRooms</th>\n",
       "      <th>Alley</th>\n",
       "    </tr>\n",
       "  </thead>\n",
       "  <tbody>\n",
       "    <tr>\n",
       "      <th>0</th>\n",
       "      <td>3.0</td>\n",
       "      <td>Pave</td>\n",
       "    </tr>\n",
       "    <tr>\n",
       "      <th>1</th>\n",
       "      <td>2.0</td>\n",
       "      <td>NaN</td>\n",
       "    </tr>\n",
       "    <tr>\n",
       "      <th>2</th>\n",
       "      <td>4.0</td>\n",
       "      <td>NaN</td>\n",
       "    </tr>\n",
       "    <tr>\n",
       "      <th>3</th>\n",
       "      <td>3.0</td>\n",
       "      <td>NaN</td>\n",
       "    </tr>\n",
       "  </tbody>\n",
       "</table>\n",
       "</div>"
      ],
      "text/plain": [
       "   NumRooms Alley\n",
       "0       3.0  Pave\n",
       "1       2.0   NaN\n",
       "2       4.0   NaN\n",
       "3       3.0   NaN"
      ]
     },
     "execution_count": 12,
     "metadata": {},
     "output_type": "execute_result"
    }
   ],
   "source": [
    "inputs"
   ]
  },
  {
   "cell_type": "code",
   "execution_count": 13,
   "id": "44704b17-5385-497b-aa56-ca289c8d4ab4",
   "metadata": {
    "tags": []
   },
   "outputs": [],
   "source": [
    "inputs = pd.get_dummies(inputs, dummy_na=True)"
   ]
  },
  {
   "cell_type": "code",
   "execution_count": 14,
   "id": "a4c89817-5e48-4798-9cf1-e80a313cb8ee",
   "metadata": {
    "tags": []
   },
   "outputs": [
    {
     "data": {
      "text/html": [
       "<div>\n",
       "<style scoped>\n",
       "    .dataframe tbody tr th:only-of-type {\n",
       "        vertical-align: middle;\n",
       "    }\n",
       "\n",
       "    .dataframe tbody tr th {\n",
       "        vertical-align: top;\n",
       "    }\n",
       "\n",
       "    .dataframe thead th {\n",
       "        text-align: right;\n",
       "    }\n",
       "</style>\n",
       "<table border=\"1\" class=\"dataframe\">\n",
       "  <thead>\n",
       "    <tr style=\"text-align: right;\">\n",
       "      <th></th>\n",
       "      <th>NumRooms</th>\n",
       "      <th>Alley_Pave</th>\n",
       "      <th>Alley_nan</th>\n",
       "    </tr>\n",
       "  </thead>\n",
       "  <tbody>\n",
       "    <tr>\n",
       "      <th>0</th>\n",
       "      <td>3.0</td>\n",
       "      <td>1</td>\n",
       "      <td>0</td>\n",
       "    </tr>\n",
       "    <tr>\n",
       "      <th>1</th>\n",
       "      <td>2.0</td>\n",
       "      <td>0</td>\n",
       "      <td>1</td>\n",
       "    </tr>\n",
       "    <tr>\n",
       "      <th>2</th>\n",
       "      <td>4.0</td>\n",
       "      <td>0</td>\n",
       "      <td>1</td>\n",
       "    </tr>\n",
       "    <tr>\n",
       "      <th>3</th>\n",
       "      <td>3.0</td>\n",
       "      <td>0</td>\n",
       "      <td>1</td>\n",
       "    </tr>\n",
       "  </tbody>\n",
       "</table>\n",
       "</div>"
      ],
      "text/plain": [
       "   NumRooms  Alley_Pave  Alley_nan\n",
       "0       3.0           1          0\n",
       "1       2.0           0          1\n",
       "2       4.0           0          1\n",
       "3       3.0           0          1"
      ]
     },
     "execution_count": 14,
     "metadata": {},
     "output_type": "execute_result"
    }
   ],
   "source": [
    "inputs"
   ]
  },
  {
   "cell_type": "markdown",
   "id": "1d9aba03-155b-4bb5-bb11-a9f9a8106212",
   "metadata": {},
   "source": [
    "3. 转换为张量格式"
   ]
  },
  {
   "cell_type": "code",
   "execution_count": 15,
   "id": "b1d7ab2e-163a-4b60-9667-51821049e884",
   "metadata": {
    "tags": []
   },
   "outputs": [],
   "source": [
    "import torch"
   ]
  },
  {
   "cell_type": "code",
   "execution_count": 16,
   "id": "d25a0d51-6c3e-4894-8591-e49954734813",
   "metadata": {
    "tags": []
   },
   "outputs": [],
   "source": [
    "X, y = torch.tensor(inputs.values), torch.tensor(outputs.values)"
   ]
  },
  {
   "cell_type": "code",
   "execution_count": 17,
   "id": "729f2039-0c6b-4efa-8367-bf7b98a3a5f1",
   "metadata": {
    "tags": []
   },
   "outputs": [
    {
     "data": {
      "text/plain": [
       "(tensor([[3., 1., 0.],\n",
       "         [2., 0., 1.],\n",
       "         [4., 0., 1.],\n",
       "         [3., 0., 1.]], dtype=torch.float64),\n",
       " tensor([127500, 106000, 178100, 140000]))"
      ]
     },
     "execution_count": 17,
     "metadata": {},
     "output_type": "execute_result"
    }
   ],
   "source": [
    "X, y"
   ]
  },
  {
   "cell_type": "code",
   "execution_count": 18,
   "id": "2a78b052-c988-47d9-ba96-ef417433156e",
   "metadata": {
    "tags": []
   },
   "outputs": [],
   "source": [
    "x = torch.tensor(3.0)"
   ]
  },
  {
   "cell_type": "code",
   "execution_count": 19,
   "id": "bb8b092c-b6ee-428a-a295-202a67d09a06",
   "metadata": {
    "tags": []
   },
   "outputs": [
    {
     "data": {
      "text/plain": [
       "tensor(3.)"
      ]
     },
     "execution_count": 19,
     "metadata": {},
     "output_type": "execute_result"
    }
   ],
   "source": [
    "x"
   ]
  },
  {
   "cell_type": "code",
   "execution_count": 20,
   "id": "aae2635f-ff71-4e9a-a869-84f179632322",
   "metadata": {
    "tags": []
   },
   "outputs": [
    {
     "data": {
      "text/plain": [
       "tensor(6.)"
      ]
     },
     "execution_count": 20,
     "metadata": {},
     "output_type": "execute_result"
    }
   ],
   "source": [
    "x + x"
   ]
  },
  {
   "cell_type": "code",
   "execution_count": 22,
   "id": "eb2325a1-4814-49c2-8368-610f358c98bf",
   "metadata": {
    "tags": []
   },
   "outputs": [],
   "source": [
    "A = torch.arange(20).reshape(5, 4)"
   ]
  },
  {
   "cell_type": "code",
   "execution_count": 23,
   "id": "d5c3c78a-317c-46ff-8107-14d989daea87",
   "metadata": {
    "tags": []
   },
   "outputs": [
    {
     "data": {
      "text/plain": [
       "tensor([[ 0,  1,  2,  3],\n",
       "        [ 4,  5,  6,  7],\n",
       "        [ 8,  9, 10, 11],\n",
       "        [12, 13, 14, 15],\n",
       "        [16, 17, 18, 19]])"
      ]
     },
     "execution_count": 23,
     "metadata": {},
     "output_type": "execute_result"
    }
   ],
   "source": [
    "A"
   ]
  },
  {
   "cell_type": "code",
   "execution_count": 1,
   "id": "b2257de2-52cb-436f-af66-6ce72eee5702",
   "metadata": {
    "ExecuteTime": {
     "end_time": "2024-08-09T08:32:43.309295Z",
     "start_time": "2024-08-09T08:32:40.109164Z"
    }
   },
   "outputs": [],
   "source": [
    "import torch"
   ]
  },
  {
   "cell_type": "code",
   "execution_count": 2,
   "id": "6dee5f89",
   "metadata": {
    "ExecuteTime": {
     "end_time": "2024-08-09T08:33:07.955355Z",
     "start_time": "2024-08-09T08:33:07.944354Z"
    }
   },
   "outputs": [],
   "source": [
    "B = torch.tensor([[1,2,3], [2,0,4], [3,4,5]])"
   ]
  },
  {
   "cell_type": "code",
   "execution_count": 3,
   "id": "7b7df77e",
   "metadata": {
    "ExecuteTime": {
     "end_time": "2024-08-09T08:33:09.288365Z",
     "start_time": "2024-08-09T08:33:09.271366Z"
    }
   },
   "outputs": [
    {
     "data": {
      "text/plain": [
       "tensor([[1, 2, 3],\n",
       "        [2, 0, 4],\n",
       "        [3, 4, 5]])"
      ]
     },
     "execution_count": 3,
     "metadata": {},
     "output_type": "execute_result"
    }
   ],
   "source": [
    "B"
   ]
  },
  {
   "cell_type": "code",
   "execution_count": 4,
   "id": "f6b1eb31",
   "metadata": {
    "ExecuteTime": {
     "end_time": "2024-08-09T08:33:15.595413Z",
     "start_time": "2024-08-09T08:33:15.584409Z"
    }
   },
   "outputs": [
    {
     "data": {
      "text/plain": [
       "tensor([[True, True, True],\n",
       "        [True, True, True],\n",
       "        [True, True, True]])"
      ]
     },
     "execution_count": 4,
     "metadata": {},
     "output_type": "execute_result"
    }
   ],
   "source": [
    "B == B.T"
   ]
  },
  {
   "cell_type": "code",
   "execution_count": 5,
   "id": "a769d442",
   "metadata": {
    "ExecuteTime": {
     "end_time": "2024-08-09T08:44:32.099699Z",
     "start_time": "2024-08-09T08:44:32.089701Z"
    }
   },
   "outputs": [],
   "source": [
    "X = torch.arange(24).reshape(2,3,4)"
   ]
  },
  {
   "cell_type": "code",
   "execution_count": 6,
   "id": "e2266216",
   "metadata": {
    "ExecuteTime": {
     "end_time": "2024-08-09T08:44:33.512707Z",
     "start_time": "2024-08-09T08:44:33.505710Z"
    }
   },
   "outputs": [
    {
     "data": {
      "text/plain": [
       "tensor([[[ 0,  1,  2,  3],\n",
       "         [ 4,  5,  6,  7],\n",
       "         [ 8,  9, 10, 11]],\n",
       "\n",
       "        [[12, 13, 14, 15],\n",
       "         [16, 17, 18, 19],\n",
       "         [20, 21, 22, 23]]])"
      ]
     },
     "execution_count": 6,
     "metadata": {},
     "output_type": "execute_result"
    }
   ],
   "source": [
    "X"
   ]
  },
  {
   "cell_type": "code",
   "execution_count": 7,
   "id": "67b4f51d",
   "metadata": {
    "ExecuteTime": {
     "end_time": "2024-08-09T08:46:44.475112Z",
     "start_time": "2024-08-09T08:46:44.469111Z"
    }
   },
   "outputs": [],
   "source": [
    "A = torch.arange(20, dtype=torch.float32).reshape(5,4)"
   ]
  },
  {
   "cell_type": "code",
   "execution_count": 8,
   "id": "93e1fd5e",
   "metadata": {
    "ExecuteTime": {
     "end_time": "2024-08-09T08:46:46.167123Z",
     "start_time": "2024-08-09T08:46:46.133119Z"
    }
   },
   "outputs": [
    {
     "data": {
      "text/plain": [
       "tensor([[ 0.,  1.,  2.,  3.],\n",
       "        [ 4.,  5.,  6.,  7.],\n",
       "        [ 8.,  9., 10., 11.],\n",
       "        [12., 13., 14., 15.],\n",
       "        [16., 17., 18., 19.]])"
      ]
     },
     "execution_count": 8,
     "metadata": {},
     "output_type": "execute_result"
    }
   ],
   "source": [
    "A"
   ]
  },
  {
   "cell_type": "code",
   "execution_count": 9,
   "id": "408920be",
   "metadata": {
    "ExecuteTime": {
     "end_time": "2024-08-09T08:47:13.708251Z",
     "start_time": "2024-08-09T08:47:13.703250Z"
    }
   },
   "outputs": [],
   "source": [
    "B = A.clone()"
   ]
  },
  {
   "cell_type": "code",
   "execution_count": 10,
   "id": "a141c0dd",
   "metadata": {
    "ExecuteTime": {
     "end_time": "2024-08-09T08:47:15.237258Z",
     "start_time": "2024-08-09T08:47:15.231256Z"
    }
   },
   "outputs": [
    {
     "data": {
      "text/plain": [
       "tensor([[ 0.,  1.,  2.,  3.],\n",
       "        [ 4.,  5.,  6.,  7.],\n",
       "        [ 8.,  9., 10., 11.],\n",
       "        [12., 13., 14., 15.],\n",
       "        [16., 17., 18., 19.]])"
      ]
     },
     "execution_count": 10,
     "metadata": {},
     "output_type": "execute_result"
    }
   ],
   "source": [
    "B"
   ]
  },
  {
   "cell_type": "code",
   "execution_count": 11,
   "id": "8bc3d759",
   "metadata": {
    "ExecuteTime": {
     "end_time": "2024-08-09T08:47:21.577292Z",
     "start_time": "2024-08-09T08:47:21.568284Z"
    }
   },
   "outputs": [
    {
     "data": {
      "text/plain": [
       "(tensor([[ 0.,  1.,  2.,  3.],\n",
       "         [ 4.,  5.,  6.,  7.],\n",
       "         [ 8.,  9., 10., 11.],\n",
       "         [12., 13., 14., 15.],\n",
       "         [16., 17., 18., 19.]]),\n",
       " tensor([[ 0.,  2.,  4.,  6.],\n",
       "         [ 8., 10., 12., 14.],\n",
       "         [16., 18., 20., 22.],\n",
       "         [24., 26., 28., 30.],\n",
       "         [32., 34., 36., 38.]]))"
      ]
     },
     "execution_count": 11,
     "metadata": {},
     "output_type": "execute_result"
    }
   ],
   "source": [
    "A, A + B"
   ]
  },
  {
   "cell_type": "code",
   "execution_count": 12,
   "id": "96cf4bc2",
   "metadata": {
    "ExecuteTime": {
     "end_time": "2024-08-09T08:49:20.362116Z",
     "start_time": "2024-08-09T08:49:20.354119Z"
    }
   },
   "outputs": [
    {
     "data": {
      "text/plain": [
       "tensor([[  0.,   1.,   4.,   9.],\n",
       "        [ 16.,  25.,  36.,  49.],\n",
       "        [ 64.,  81., 100., 121.],\n",
       "        [144., 169., 196., 225.],\n",
       "        [256., 289., 324., 361.]])"
      ]
     },
     "execution_count": 12,
     "metadata": {},
     "output_type": "execute_result"
    }
   ],
   "source": [
    "A*B"
   ]
  },
  {
   "cell_type": "code",
   "execution_count": 13,
   "id": "ed9928bb",
   "metadata": {
    "ExecuteTime": {
     "end_time": "2024-08-09T08:50:09.000891Z",
     "start_time": "2024-08-09T08:50:08.995893Z"
    }
   },
   "outputs": [],
   "source": [
    "x = torch.arange(4, dtype=torch.float32)"
   ]
  },
  {
   "cell_type": "code",
   "execution_count": 14,
   "id": "b2402b6f",
   "metadata": {
    "ExecuteTime": {
     "end_time": "2024-08-09T08:50:10.721901Z",
     "start_time": "2024-08-09T08:50:10.716899Z"
    }
   },
   "outputs": [
    {
     "data": {
      "text/plain": [
       "tensor([0., 1., 2., 3.])"
      ]
     },
     "execution_count": 14,
     "metadata": {},
     "output_type": "execute_result"
    }
   ],
   "source": [
    "x"
   ]
  },
  {
   "cell_type": "code",
   "execution_count": 15,
   "id": "7302731a",
   "metadata": {
    "ExecuteTime": {
     "end_time": "2024-08-09T08:50:14.838922Z",
     "start_time": "2024-08-09T08:50:14.830917Z"
    }
   },
   "outputs": [
    {
     "data": {
      "text/plain": [
       "(tensor([0., 1., 2., 3.]), tensor(6.))"
      ]
     },
     "execution_count": 15,
     "metadata": {},
     "output_type": "execute_result"
    }
   ],
   "source": [
    "x, x.sum()"
   ]
  },
  {
   "cell_type": "code",
   "execution_count": 16,
   "id": "150fd45f",
   "metadata": {
    "ExecuteTime": {
     "end_time": "2024-08-09T08:51:55.791106Z",
     "start_time": "2024-08-09T08:51:55.785103Z"
    }
   },
   "outputs": [
    {
     "data": {
      "text/plain": [
       "tensor([[ 0.,  1.,  2.,  3.],\n",
       "        [ 4.,  5.,  6.,  7.],\n",
       "        [ 8.,  9., 10., 11.],\n",
       "        [12., 13., 14., 15.],\n",
       "        [16., 17., 18., 19.]])"
      ]
     },
     "execution_count": 16,
     "metadata": {},
     "output_type": "execute_result"
    }
   ],
   "source": [
    "A"
   ]
  },
  {
   "cell_type": "code",
   "execution_count": 17,
   "id": "3f572977",
   "metadata": {
    "ExecuteTime": {
     "end_time": "2024-08-09T08:51:57.939120Z",
     "start_time": "2024-08-09T08:51:57.933111Z"
    }
   },
   "outputs": [
    {
     "data": {
      "text/plain": [
       "tensor(190.)"
      ]
     },
     "execution_count": 17,
     "metadata": {},
     "output_type": "execute_result"
    }
   ],
   "source": [
    "A.sum()"
   ]
  },
  {
   "cell_type": "code",
   "execution_count": 18,
   "id": "39dc9f07",
   "metadata": {
    "ExecuteTime": {
     "end_time": "2024-08-09T08:52:01.378128Z",
     "start_time": "2024-08-09T08:52:01.371134Z"
    }
   },
   "outputs": [
    {
     "data": {
      "text/plain": [
       "torch.Size([5, 4])"
      ]
     },
     "execution_count": 18,
     "metadata": {},
     "output_type": "execute_result"
    }
   ],
   "source": [
    "A.shape"
   ]
  },
  {
   "cell_type": "code",
   "execution_count": 19,
   "id": "db4024e4",
   "metadata": {
    "ExecuteTime": {
     "end_time": "2024-08-09T08:52:23.530277Z",
     "start_time": "2024-08-09T08:52:23.524276Z"
    }
   },
   "outputs": [
    {
     "data": {
      "text/plain": [
       "tensor([40., 45., 50., 55.])"
      ]
     },
     "execution_count": 19,
     "metadata": {},
     "output_type": "execute_result"
    }
   ],
   "source": [
    "A.sum(axis=0)"
   ]
  },
  {
   "cell_type": "code",
   "execution_count": 20,
   "id": "db6d4678",
   "metadata": {
    "ExecuteTime": {
     "end_time": "2024-08-10T07:12:46.459533Z",
     "start_time": "2024-08-10T07:12:46.319531Z"
    }
   },
   "outputs": [
    {
     "data": {
      "text/plain": [
       "tensor([ 6., 22., 38., 54., 70.])"
      ]
     },
     "execution_count": 20,
     "metadata": {},
     "output_type": "execute_result"
    }
   ],
   "source": [
    "A.sum(axis=1)"
   ]
  },
  {
   "cell_type": "code",
   "execution_count": 21,
   "id": "9c493abf",
   "metadata": {
    "ExecuteTime": {
     "end_time": "2024-08-10T07:13:05.598561Z",
     "start_time": "2024-08-10T07:13:05.582561Z"
    }
   },
   "outputs": [
    {
     "data": {
      "text/plain": [
       "tensor([[ 6.],\n",
       "        [22.],\n",
       "        [38.],\n",
       "        [54.],\n",
       "        [70.]])"
      ]
     },
     "execution_count": 21,
     "metadata": {},
     "output_type": "execute_result"
    }
   ],
   "source": [
    "A.sum(axis=1, keepdim=True)"
   ]
  },
  {
   "cell_type": "code",
   "execution_count": 23,
   "id": "658f4784",
   "metadata": {
    "ExecuteTime": {
     "end_time": "2024-08-10T07:14:17.320660Z",
     "start_time": "2024-08-10T07:14:17.310660Z"
    }
   },
   "outputs": [
    {
     "data": {
      "text/plain": [
       "tensor([[ 0.,  1.,  2.,  3.],\n",
       "        [ 4.,  6.,  8., 10.],\n",
       "        [12., 15., 18., 21.],\n",
       "        [24., 28., 32., 36.],\n",
       "        [40., 45., 50., 55.]])"
      ]
     },
     "execution_count": 23,
     "metadata": {},
     "output_type": "execute_result"
    }
   ],
   "source": [
    "A.cumsum(axis=0)"
   ]
  },
  {
   "cell_type": "code",
   "execution_count": 24,
   "id": "55adb1b5",
   "metadata": {
    "ExecuteTime": {
     "end_time": "2024-08-10T07:14:23.624668Z",
     "start_time": "2024-08-10T07:14:23.617670Z"
    }
   },
   "outputs": [
    {
     "data": {
      "text/plain": [
       "tensor([[ 0.,  1.,  2.,  3.],\n",
       "        [ 4.,  5.,  6.,  7.],\n",
       "        [ 8.,  9., 10., 11.],\n",
       "        [12., 13., 14., 15.],\n",
       "        [16., 17., 18., 19.]])"
      ]
     },
     "execution_count": 24,
     "metadata": {},
     "output_type": "execute_result"
    }
   ],
   "source": [
    "A"
   ]
  },
  {
   "cell_type": "code",
   "execution_count": 25,
   "id": "58b3690e",
   "metadata": {
    "ExecuteTime": {
     "end_time": "2024-08-13T01:51:13.298005Z",
     "start_time": "2024-08-13T01:51:13.189432Z"
    }
   },
   "outputs": [],
   "source": [
    "x = torch.arange(4, dtype=torch.float32)"
   ]
  },
  {
   "cell_type": "code",
   "execution_count": 26,
   "id": "c9e76171",
   "metadata": {
    "ExecuteTime": {
     "end_time": "2024-08-13T01:51:15.581180Z",
     "start_time": "2024-08-13T01:51:15.459522Z"
    }
   },
   "outputs": [
    {
     "data": {
      "text/plain": [
       "tensor([0., 1., 2., 3.])"
      ]
     },
     "execution_count": 26,
     "metadata": {},
     "output_type": "execute_result"
    }
   ],
   "source": [
    "x"
   ]
  },
  {
   "cell_type": "code",
   "execution_count": 27,
   "id": "1d20c53b",
   "metadata": {
    "ExecuteTime": {
     "end_time": "2024-08-13T01:51:27.296715Z",
     "start_time": "2024-08-13T01:51:27.264837Z"
    }
   },
   "outputs": [],
   "source": [
    "y = torch.ones(4, dtype = torch.float32)"
   ]
  },
  {
   "cell_type": "code",
   "execution_count": 28,
   "id": "90a7065d",
   "metadata": {
    "ExecuteTime": {
     "end_time": "2024-08-13T01:51:28.888986Z",
     "start_time": "2024-08-13T01:51:28.873885Z"
    }
   },
   "outputs": [
    {
     "data": {
      "text/plain": [
       "tensor([1., 1., 1., 1.])"
      ]
     },
     "execution_count": 28,
     "metadata": {},
     "output_type": "execute_result"
    }
   ],
   "source": [
    "y"
   ]
  },
  {
   "cell_type": "code",
   "execution_count": 29,
   "id": "47ffffb4",
   "metadata": {
    "ExecuteTime": {
     "end_time": "2024-08-13T01:51:58.815657Z",
     "start_time": "2024-08-13T01:51:58.781269Z"
    }
   },
   "outputs": [
    {
     "data": {
      "text/plain": [
       "tensor(6.)"
      ]
     },
     "execution_count": 29,
     "metadata": {},
     "output_type": "execute_result"
    }
   ],
   "source": [
    "torch.dot(x, y)"
   ]
  },
  {
   "cell_type": "code",
   "execution_count": null,
   "id": "afc55ec7",
   "metadata": {},
   "outputs": [],
   "source": []
  }
 ],
 "metadata": {
  "kernelspec": {
   "display_name": "Python 3 (ipykernel)",
   "language": "python",
   "name": "python3"
  },
  "language_info": {
   "codemirror_mode": {
    "name": "ipython",
    "version": 3
   },
   "file_extension": ".py",
   "mimetype": "text/x-python",
   "name": "python",
   "nbconvert_exporter": "python",
   "pygments_lexer": "ipython3",
   "version": "3.9.19"
  },
  "toc": {
   "base_numbering": 1,
   "nav_menu": {
    "height": "313px",
    "width": "168px"
   },
   "number_sections": true,
   "sideBar": true,
   "skip_h1_title": false,
   "title_cell": "Table of Contents",
   "title_sidebar": "Contents",
   "toc_cell": false,
   "toc_position": {},
   "toc_section_display": true,
   "toc_window_display": false
  }
 },
 "nbformat": 4,
 "nbformat_minor": 5
}
