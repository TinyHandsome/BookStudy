{
 "cells": [
  {
   "cell_type": "markdown",
   "metadata": {},
   "source": [
    "创建TCP服务器"
   ]
  },
  {
   "cell_type": "code",
   "execution_count": null,
   "metadata": {},
   "outputs": [
    {
     "name": "stdout",
     "output_type": "stream",
     "text": [
      "等待连接...\n",
      "...连接自： ('127.0.0.1', 61086)\n"
     ]
    }
   ],
   "source": [
    "from socket import *\n",
    "from time import ctime\n",
    "\n",
    "HOST = ''\n",
    "PORT = 21567\n",
    "BUFSIZ = 1024\n",
    "ADDR = (HOST, PORT)\n",
    "\n",
    "tcpSerSock = socket(AF_INET, SOCK_STREAM)\n",
    "tcpSerSock.bind(ADDR)\n",
    "tcpSerSock.listen(5 )\n",
    "\n",
    "while True:\n",
    "    print('等待连接...')\n",
    "    tcpCliSock, addr =tcpSerSock.accept()\n",
    "    print('...连接自：', addr)\n",
    "\n",
    "    while True:\n",
    "        data = tcpCliSock.recv(BUFSIZ)\n",
    "        if not data:\n",
    "            break\n",
    "        tcpCliSock.send('[%s] %s' % (bytes(ctime(), 'utf-8'), data))\n",
    "\n",
    "    tcpCliSock.close()\n",
    "tcpSerSock.close()"
   ]
  },
  {
   "cell_type": "markdown",
   "metadata": {},
   "source": [
    "创建TCP客户端"
   ]
  },
  {
   "cell_type": "code",
   "execution_count": null,
   "metadata": {},
   "outputs": [],
   "source": [
    "from socket import *\n",
    "\n",
    "HOST = 'localhost'\n",
    "PORT = 21567\n",
    "BUFSIZ = 1024\n",
    "ADDR = (HOST, PORT)\n",
    "\n",
    "tcpCliSock = socket(AF_INET, SOCK_STREAM)\n",
    "tcpCliSock.connect(ADDR)\n",
    "\n",
    "while True:\n",
    "    data = input('> ')\n",
    "    if not data:\n",
    "        break\n",
    "    tcpCliSock.send(data)\n",
    "    data = tcpCliSock.recv(BUFSIZ)\n",
    "    if not data:\n",
    "        break\n",
    "    print(data.decode('utf-8'))\n",
    "    \n",
    "tcpCliSock.close()"
   ]
  }
 ],
 "metadata": {
  "kernelspec": {
   "display_name": "Python 3",
   "language": "python",
   "name": "python3"
  },
  "language_info": {
   "codemirror_mode": {
    "name": "ipython",
    "version": 3
   },
   "file_extension": ".py",
   "mimetype": "text/x-python",
   "name": "python",
   "nbconvert_exporter": "python",
   "pygments_lexer": "ipython3",
   "version": "3.7.8"
  }
 },
 "nbformat": 4,
 "nbformat_minor": 4
}
