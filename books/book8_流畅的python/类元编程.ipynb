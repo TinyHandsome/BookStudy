{
 "cells": [
  {
   "cell_type": "code",
   "execution_count": 1,
   "metadata": {},
   "outputs": [],
   "source": [
    "def record_factory(cls_name, field_names):\n",
    "    try:\n",
    "        field_names = field_names.replace(',', ' ').split() #1\n",
    "    except AttributeError: # 不能调用.replace或.split方法\n",
    "        pass # 假定field_names本就是标识符组成的序列\n",
    "    field_names = tuple(field_names) #2\n",
    "    \n",
    "    def __init__(self, *args, **kwargs):\n",
    "        attrs = dict(zip(self.__slots__, args))\n",
    "        attrs.update(kwargs)\n",
    "        for name, value in attrs.items():\n",
    "            setattr(self, name, value)\n",
    "            \n",
    "    def __iter__(self): #4\n",
    "        for name in self.__slots__:\n",
    "            yield getattr(self, name)\n",
    "            \n",
    "    def __repr__(self): #5\n",
    "        values = ', '.join('{}={!r}'.format(*i) for i in zip(self.__slots__, self))\n",
    "        return '{}({})'.format(self.__class__.__name__, values)\n",
    "    \n",
    "    cls_attrs = dict(\n",
    "        __slots__ = field_names,\n",
    "        __init__ = __init__,\n",
    "        __iter__ = __iter__,\n",
    "        __repr__ = __repr\n",
    "    ) #6\n",
    "    \n",
    "    return type(cls_name, (object,), cls_attrs) #7"
   ]
  },
  {
   "cell_type": "code",
   "execution_count": 2,
   "metadata": {},
   "outputs": [
    {
     "ename": "NameError",
     "evalue": "name 'MySuperClass' is not defined",
     "output_type": "error",
     "traceback": [
      "\u001b[1;31m---------------------------------------------------------------------------\u001b[0m",
      "\u001b[1;31mNameError\u001b[0m                                 Traceback (most recent call last)",
      "\u001b[1;32m<ipython-input-2-2f70d8f4b0fc>\u001b[0m in \u001b[0;36m<module>\u001b[1;34m\u001b[0m\n\u001b[1;32m----> 1\u001b[1;33m \u001b[0mMyClass\u001b[0m \u001b[1;33m=\u001b[0m \u001b[0mtype\u001b[0m\u001b[1;33m(\u001b[0m\u001b[1;34m'MyClass'\u001b[0m\u001b[1;33m,\u001b[0m \u001b[1;33m(\u001b[0m\u001b[0mMySuperClass\u001b[0m\u001b[1;33m,\u001b[0m \u001b[0mMyMixin\u001b[0m\u001b[1;33m)\u001b[0m\u001b[1;33m,\u001b[0m \u001b[1;33m{\u001b[0m\u001b[1;34m'x'\u001b[0m\u001b[1;33m:\u001b[0m \u001b[1;36m42\u001b[0m\u001b[1;33m,\u001b[0m \u001b[1;34m'x2'\u001b[0m\u001b[1;33m:\u001b[0m \u001b[1;32mlambda\u001b[0m \u001b[0mself\u001b[0m\u001b[1;33m:\u001b[0m \u001b[0mself\u001b[0m\u001b[1;33m.\u001b[0m\u001b[0mx\u001b[0m \u001b[1;33m*\u001b[0m \u001b[1;36m2\u001b[0m\u001b[1;33m}\u001b[0m\u001b[1;33m)\u001b[0m\u001b[1;33m\u001b[0m\u001b[1;33m\u001b[0m\u001b[0m\n\u001b[0m",
      "\u001b[1;31mNameError\u001b[0m: name 'MySuperClass' is not defined"
     ]
    }
   ],
   "source": [
    "MyClass = type('MyClass', (MySuperClass, MyMixin), {'x': 42, 'x2': lambda self: self.x * 2})"
   ]
  },
  {
   "cell_type": "code",
   "execution_count": 1,
   "metadata": {},
   "outputs": [],
   "source": [
    "def entity(cls): #1\n",
    "    for key, attr in cls.__dict__.items(): #2\n",
    "        if isinstance(attr, Validated): #4\n",
    "            type_name = type(attr).__name__\n",
    "            attr.strorage_name = '_{}#{}'.format(type_name, key) #4\n",
    "    return cls #5"
   ]
  },
  {
   "cell_type": "code",
   "execution_count": 1,
   "metadata": {},
   "outputs": [],
   "source": [
    "import model_v6 as model\n",
    "from model_v6 import entity\n",
    "\n",
    "@entity\n",
    "class LineItem:\n",
    "    description = model.NonBlank()\n",
    "    weight = model.Quantity()\n",
    "    price = model.Quantity()\n",
    "    \n",
    "    def __init__(self, description, weight, price):\n",
    "        self.description = description\n",
    "        self.weight = weight\n",
    "        self.price = price\n",
    "        \n",
    "    def subtotal(self):\n",
    "        return self.weight * self.price"
   ]
  },
  {
   "cell_type": "code",
   "execution_count": 3,
   "metadata": {},
   "outputs": [],
   "source": [
    "raisins = LineItem('Golden raisins', 10, 6.95)"
   ]
  },
  {
   "cell_type": "code",
   "execution_count": 4,
   "metadata": {},
   "outputs": [
    {
     "data": {
      "text/plain": [
       "['_NonBlank#1', '_Quantity#2', '_Quantity#3']"
      ]
     },
     "execution_count": 4,
     "metadata": {},
     "output_type": "execute_result"
    }
   ],
   "source": [
    "dir(raisins)[:3]"
   ]
  },
  {
   "cell_type": "code",
   "execution_count": 5,
   "metadata": {},
   "outputs": [
    {
     "ename": "ModuleNotFoundError",
     "evalue": "No module named 'evaltime'",
     "output_type": "error",
     "traceback": [
      "\u001b[1;31m---------------------------------------------------------------------------\u001b[0m",
      "\u001b[1;31mModuleNotFoundError\u001b[0m                       Traceback (most recent call last)",
      "\u001b[1;32m<ipython-input-5-50bd60634aef>\u001b[0m in \u001b[0;36m<module>\u001b[1;34m\u001b[0m\n\u001b[1;32m----> 1\u001b[1;33m \u001b[1;32mimport\u001b[0m \u001b[0mevaltime\u001b[0m\u001b[1;33m\u001b[0m\u001b[1;33m\u001b[0m\u001b[0m\n\u001b[0m",
      "\u001b[1;31mModuleNotFoundError\u001b[0m: No module named 'evaltime'"
     ]
    }
   ],
   "source": [
    "import evaltime"
   ]
  },
  {
   "cell_type": "markdown",
   "metadata": {},
   "source": [
    "evalsupport.py：evaltime.py 导入的模块"
   ]
  },
  {
   "cell_type": "code",
   "execution_count": 6,
   "metadata": {},
   "outputs": [
    {
     "name": "stdout",
     "output_type": "stream",
     "text": [
      "<[100]> evalsupport module start\n",
      "<[400]> MetaAleph body\n",
      "<[700]> evalsupport module end\n"
     ]
    }
   ],
   "source": [
    "print('<[100]> evalsupport module start')\n",
    "\n",
    "def deco_alpha(cls):\n",
    "    print('<[200]> deco_alpha')\n",
    "    def inner_1(self):\n",
    "        print('<[300]> deco_alpha:inner_1')\n",
    "        \n",
    "    cls.method_y = inner_1\n",
    "    return cls\n",
    "\n",
    "class MetaAleph(type):\n",
    "    print('<[400]> MetaAleph body')\n",
    "    \n",
    "    def __init__(cls, name, bases, dic):\n",
    "        print('<[500]> MetaAleph.__init__')\n",
    "        \n",
    "        def inner_2(self):\n",
    "            print('<[600]> MetaAleph.__init__:init_2')\n",
    "            \n",
    "        cls.method_z = inner_2\n",
    "        \n",
    "print('<[700]> evalsupport module end')"
   ]
  },
  {
   "cell_type": "markdown",
   "metadata": {},
   "source": [
    "evaltime.py：按顺序写出输出的序号标记 <[N]>"
   ]
  },
  {
   "cell_type": "code",
   "execution_count": null,
   "metadata": {},
   "outputs": [],
   "source": [
    "from evalsupport import deco_alpha\n",
    "\n",
    "print('<[1]> evaltime module start')\n",
    "\n",
    "\n",
    "class ClassOne():\n",
    "    print('<[2]> ClassOne body')\n",
    "    \n",
    "    "
   ]
  }
 ],
 "metadata": {
  "kernelspec": {
   "display_name": "Python 3",
   "language": "python",
   "name": "python3"
  },
  "language_info": {
   "codemirror_mode": {
    "name": "ipython",
    "version": 3
   },
   "file_extension": ".py",
   "mimetype": "text/x-python",
   "name": "python",
   "nbconvert_exporter": "python",
   "pygments_lexer": "ipython3",
   "version": "3.7.8"
  }
 },
 "nbformat": 4,
 "nbformat_minor": 4
}
