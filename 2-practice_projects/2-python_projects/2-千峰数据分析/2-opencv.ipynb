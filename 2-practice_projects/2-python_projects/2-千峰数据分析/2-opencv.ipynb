{
 "cells": [
  {
   "cell_type": "code",
   "execution_count": 1,
   "metadata": {},
   "outputs": [],
   "source": [
    "import numpy as np\n",
    "import cv2"
   ]
  },
  {
   "cell_type": "code",
   "execution_count": 2,
   "metadata": {},
   "outputs": [],
   "source": [
    "dog1 = cv2.imread('./datas/pic_1.jpeg')"
   ]
  },
  {
   "cell_type": "code",
   "execution_count": 3,
   "metadata": {
    "scrolled": true,
    "tags": []
   },
   "outputs": [
    {
     "data": {
      "text/plain": [
       "array([[[106, 148, 201],\n",
       "        [107, 149, 202],\n",
       "        [107, 149, 202],\n",
       "        ...,\n",
       "        [ 80, 120, 179],\n",
       "        [ 81, 121, 180],\n",
       "        [ 81, 121, 180]],\n",
       "\n",
       "       [[107, 149, 202],\n",
       "        [107, 149, 202],\n",
       "        [108, 150, 203],\n",
       "        ...,\n",
       "        [ 81, 121, 180],\n",
       "        [ 81, 121, 180],\n",
       "        [ 81, 121, 180]],\n",
       "\n",
       "       [[108, 150, 203],\n",
       "        [108, 150, 203],\n",
       "        [108, 150, 203],\n",
       "        ...,\n",
       "        [ 81, 121, 180],\n",
       "        [ 82, 122, 181],\n",
       "        [ 82, 122, 181]],\n",
       "\n",
       "       ...,\n",
       "\n",
       "       [[ 77, 111, 171],\n",
       "        [ 76, 110, 170],\n",
       "        [ 73, 107, 167],\n",
       "        ...,\n",
       "        [ 50,  76, 130],\n",
       "        [ 50,  76, 130],\n",
       "        [ 50,  76, 130]],\n",
       "\n",
       "       [[ 77, 111, 171],\n",
       "        [ 75, 109, 169],\n",
       "        [ 73, 107, 167],\n",
       "        ...,\n",
       "        [ 50,  76, 130],\n",
       "        [ 50,  76, 130],\n",
       "        [ 50,  76, 130]],\n",
       "\n",
       "       [[ 77, 111, 171],\n",
       "        [ 75, 109, 169],\n",
       "        [ 73, 107, 167],\n",
       "        ...,\n",
       "        [ 50,  76, 130],\n",
       "        [ 50,  76, 130],\n",
       "        [ 50,  76, 130]]], dtype=uint8)"
      ]
     },
     "execution_count": 3,
     "metadata": {},
     "output_type": "execute_result"
    }
   ],
   "source": [
    "dog1"
   ]
  },
  {
   "cell_type": "code",
   "execution_count": 4,
   "metadata": {},
   "outputs": [
    {
     "data": {
      "text/plain": [
       "(1080, 1080, 3)"
      ]
     },
     "execution_count": 4,
     "metadata": {},
     "output_type": "execute_result"
    }
   ],
   "source": [
    "dog1.shape"
   ]
  },
  {
   "cell_type": "code",
   "execution_count": 7,
   "metadata": {},
   "outputs": [],
   "source": [
    "cv2.imshow('dog1', dog1)\n",
    "# 等待键盘输入，单位毫秒，如果是0，无限等待\n",
    "cv2.waitKey(0)\n",
    "cv2.destroyAllWindows()"
   ]
  },
  {
   "cell_type": "code",
   "execution_count": 9,
   "metadata": {},
   "outputs": [],
   "source": [
    "# BGR 蓝绿红，cv2读取图片的颜色通道是BGR\n",
    "# PIL 读取图片，颜色通道是 RGB\n",
    "dog2 = cv2.cvtColor(dog1, code=cv2.COLOR_BGR2GRAY)\n",
    "\n",
    "cv2.imshow('dog2', dog2)\n",
    "# 等待键盘输入，单位毫秒，如果是0，无限等待\n",
    "cv2.waitKey(0)\n",
    "cv2.destroyAllWindows()"
   ]
  },
  {
   "cell_type": "code",
   "execution_count": 11,
   "metadata": {},
   "outputs": [
    {
     "data": {
      "text/plain": [
       "True"
      ]
     },
     "execution_count": 11,
     "metadata": {},
     "output_type": "execute_result"
    }
   ],
   "source": [
    "cv2.imwrite('./out/dog2_gray.jpg', dog2)"
   ]
  },
  {
   "cell_type": "code",
   "execution_count": 12,
   "metadata": {},
   "outputs": [
    {
     "data": {
      "text/plain": [
       "(1080, 1080, 3)"
      ]
     },
     "execution_count": 12,
     "metadata": {},
     "output_type": "execute_result"
    }
   ],
   "source": [
    "dog1.shape"
   ]
  },
  {
   "cell_type": "code",
   "execution_count": 19,
   "metadata": {},
   "outputs": [],
   "source": [
    "dog3 = cv2.resize(dog1, dsize=(1000, 1000))\n",
    "dog3.shape\n",
    "cv2.imshow('dog3', dog3)\n",
    "# 等待键盘输入，单位毫秒，如果是0，无限等待\n",
    "while True:\n",
    "    if ord('q') == cv2.waitKey(1000):\n",
    "        break\n",
    "cv2.destroyAllWindows()"
   ]
  },
  {
   "cell_type": "code",
   "execution_count": null,
   "metadata": {},
   "outputs": [],
   "source": []
  }
 ],
 "metadata": {
  "kernelspec": {
   "display_name": "Python 3",
   "language": "python",
   "name": "python3"
  },
  "language_info": {
   "codemirror_mode": {
    "name": "ipython",
    "version": 3
   },
   "file_extension": ".py",
   "mimetype": "text/x-python",
   "name": "python",
   "nbconvert_exporter": "python",
   "pygments_lexer": "ipython3",
   "version": "3.7.8"
  }
 },
 "nbformat": 4,
 "nbformat_minor": 4
}
